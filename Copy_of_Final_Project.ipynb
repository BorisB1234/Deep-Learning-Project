{
  "nbformat": 4,
  "nbformat_minor": 0,
  "metadata": {
    "colab": {
      "name": "Copy of Final Project",
      "provenance": [],
      "collapsed_sections": []
    },
    "kernelspec": {
      "name": "python3",
      "display_name": "Python 3"
    },
    "accelerator": "GPU"
  },
  "cells": [
    {
      "cell_type": "markdown",
      "metadata": {
        "id": "2ekmjkIWu2Qe",
        "colab_type": "text"
      },
      "source": [
        "#Final project - Deep Learning COLLMAN 2020\n",
        "\n",
        "In this project you are requested to develop an algorithm that predicts the winner of a given Tennis match.\n",
        "\n",
        "In order to do that, you will be working on two networks:\n",
        "1. Embedding network - trained to predict a single outcome, given two players, in order to learn how to represent a player using a vector.\n",
        "2. Prediction network - given two tennis player, this network predicts who is about to win. Each player is represented by a vector that is learned by the embedding network."
      ]
    },
    {
      "cell_type": "code",
      "metadata": {
        "id": "ZJSm3DM8u5mo",
        "colab_type": "code",
        "colab": {
          "base_uri": "https://localhost:8080/",
          "height": 120
        },
        "outputId": "aca16e1a-b66c-4a92-fca3-fbee44a5bc0e"
      },
      "source": [
        "import torch\n",
        "import torch.nn as nn\n",
        "import torch.nn.functional as F\n",
        "import torch.optim as optim\n",
        "import pandas as pd\n",
        "import numpy as np\n",
        "import random\n",
        "from torch.nn.functional import one_hot\n",
        "from sklearn.model_selection import train_test_split\n",
        "from google.colab import drive\n",
        "drive.mount('/content/drive')\n",
        "from pathlib import Path\n"
      ],
      "execution_count": null,
      "outputs": [
        {
          "output_type": "stream",
          "text": [
            "Go to this URL in a browser: https://accounts.google.com/o/oauth2/auth?client_id=947318989803-6bn6qk8qdgf4n4g3pfee6491hc0brc4i.apps.googleusercontent.com&redirect_uri=urn%3aietf%3awg%3aoauth%3a2.0%3aoob&response_type=code&scope=email%20https%3a%2f%2fwww.googleapis.com%2fauth%2fdocs.test%20https%3a%2f%2fwww.googleapis.com%2fauth%2fdrive%20https%3a%2f%2fwww.googleapis.com%2fauth%2fdrive.photos.readonly%20https%3a%2f%2fwww.googleapis.com%2fauth%2fpeopleapi.readonly\n",
            "\n",
            "Enter your authorization code:\n",
            "··········\n",
            "Mounted at /content/drive\n"
          ],
          "name": "stdout"
        }
      ]
    },
    {
      "cell_type": "markdown",
      "metadata": {
        "id": "p1RNCS-0w95q",
        "colab_type": "text"
      },
      "source": [
        "**Dataset**\n",
        "\n",
        "The dataset is composed of a collection of Tennis matches and their outcomes, provided in multiple files. You should download the data from https://drive.google.com/open?id=1ie6WSl8qkknpSGAFt32Gj7Tf0JAhTLu0 and place the folder somewhere in your Google drive. We provide you the following function *read_data_for_embedding_network*, which reads the files and create a few dictionaries that will help you handle the data later, and a list of instances for training the embedding network. Here is a detailed description of the output of this function:\n",
        "\n",
        "1. player_names - this is a dictionary that maps between a player id and a player name. This player id is unique, and it is given by the dataset owners.\n",
        "2. player_id2index - this is a dictionary that maps between a player id and an index (starting at 0). This index is unique, and it is created by us. It will help us represent the players with a one-hot vector later.\n",
        "3. players_n - an integer representing the number of players we have in the data (this will be the length of a one-hot vector representing a player).\n",
        "4. embedding_data - the dataset to train the embedding network. This dataset is a simple list of lists. Each internal list represents an individual training instance, coomposed of three components: the winner index, the loser index and a binary represnting who scored more aces (a serve that was not responded) during the match."
      ]
    },
    {
      "cell_type": "code",
      "metadata": {
        "id": "sCAYicOchvD6",
        "colab_type": "code",
        "colab": {
          "base_uri": "https://localhost:8080/",
          "height": 301
        },
        "outputId": "0e56a5da-e95d-4e06-9d22-9e38eb7832b3"
      },
      "source": [
        "def read_data_for_embedding_network(folder_path):\n",
        "  player_names = {}\n",
        "  player_id2index = {}\n",
        "  players_n = 0\n",
        "  embedding_data = []\n",
        "  pathlist = Path(folder_path).glob('**/*.csv')\n",
        "  for path in pathlist:\n",
        "     path_in_str = str(path)\n",
        "     print(path_in_str)\n",
        "     raw = pd.read_csv(path_in_str, low_memory=False)\n",
        "     for i, match in raw.iterrows():\n",
        "      if match['winner_id'] not in player_names:\n",
        "        player_names[match['winner_id']] = match['winner_name']\n",
        "        player_id2index[match['winner_id']] = players_n\n",
        "        players_n += 1\n",
        "      if match['loser_id'] not in player_names:\n",
        "        player_names[match['loser_id']] = match['loser_name']\n",
        "        player_id2index[match['loser_id']] = players_n\n",
        "        players_n += 1\n",
        "      embedding_data.append([player_id2index[match['winner_id']], \n",
        "                             player_id2index[match['loser_id']], \n",
        "                            int(match['w_ace'] > match['l_ace'])])\n",
        "  return player_names, player_id2index, players_n, embedding_data\n",
        "\n",
        "#TODO - put your own path for the dataset folder\n",
        "player_names, player_id2index, players_n, embedding_data = read_data_for_embedding_network('/content/drive/My Drive/atp-matches-dataset') \n"
      ],
      "execution_count": null,
      "outputs": [
        {
          "output_type": "stream",
          "text": [
            "/content/drive/My Drive/atp-matches-dataset/atp-matches-dataset/atp_matches_2000.csv\n",
            "/content/drive/My Drive/atp-matches-dataset/atp-matches-dataset/atp_matches_2001.csv\n",
            "/content/drive/My Drive/atp-matches-dataset/atp-matches-dataset/atp_matches_2002.csv\n",
            "/content/drive/My Drive/atp-matches-dataset/atp-matches-dataset/atp_matches_2003.csv\n",
            "/content/drive/My Drive/atp-matches-dataset/atp-matches-dataset/atp_matches_2004.csv\n",
            "/content/drive/My Drive/atp-matches-dataset/atp-matches-dataset/atp_matches_2005.csv\n",
            "/content/drive/My Drive/atp-matches-dataset/atp-matches-dataset/atp_matches_2006.csv\n",
            "/content/drive/My Drive/atp-matches-dataset/atp-matches-dataset/atp_matches_2007.csv\n",
            "/content/drive/My Drive/atp-matches-dataset/atp-matches-dataset/atp_matches_2008.csv\n",
            "/content/drive/My Drive/atp-matches-dataset/atp-matches-dataset/atp_matches_2009.csv\n",
            "/content/drive/My Drive/atp-matches-dataset/atp-matches-dataset/atp_matches_2010.csv\n",
            "/content/drive/My Drive/atp-matches-dataset/atp-matches-dataset/atp_matches_2011.csv\n",
            "/content/drive/My Drive/atp-matches-dataset/atp-matches-dataset/atp_matches_2012.csv\n",
            "/content/drive/My Drive/atp-matches-dataset/atp-matches-dataset/atp_matches_2013.csv\n",
            "/content/drive/My Drive/atp-matches-dataset/atp-matches-dataset/atp_matches_2014.csv\n",
            "/content/drive/My Drive/atp-matches-dataset/atp-matches-dataset/atp_matches_2015.csv\n",
            "/content/drive/My Drive/atp-matches-dataset/atp-matches-dataset/atp_matches_2017.csv\n"
          ],
          "name": "stdout"
        }
      ]
    },
    {
      "cell_type": "code",
      "metadata": {
        "id": "E38MQWHJaiBU",
        "colab_type": "code",
        "colab": {
          "base_uri": "https://localhost:8080/",
          "height": 120
        },
        "outputId": "4d11c9ea-3946-490e-e404-34b826b5e437"
      },
      "source": [
        "print(players_n)\n",
        "print(len(player_names))\n",
        "print(player_names)\n",
        "print(len(player_id2index))\n",
        "print(player_id2index)"
      ],
      "execution_count": null,
      "outputs": [
        {
          "output_type": "stream",
          "text": [
            "2053\n",
            "2053\n",
            "{102179: 'Antony Dupuis', 102776: 'Andrew Ilie', 103602: 'Fernando Gonzalez', 102821: 'Cecil Mamiit', 103387: 'Paradorn Srichaphan', 102205: 'Sebastien Lareau', 101733: 'Jan Siemerink', 102925: 'Justin Gimelstob', 101727: 'Jason Stoltenberg', 101826: 'Alex Lopez Moron', 103181: 'Jiri Vanek', 101885: 'Wayne Arthurs', 101675: 'Martin Rodriguez', 102455: 'Lorenzo Manta', 102834: 'Paul Goldstein', 101086: 'Ronald Agenor', 103454: 'Nicolas Massu', 102133: 'Laurence Tieleman', 102466: 'Jan Kroslak', 102966: 'Fredrik Jonsson', 103188: 'Michael Russell', 103204: 'Hugo Armando', 101150: 'Gianluca Pozzi', 102880: 'Alexander Popp', 103009: 'Razvan Sabau', 102987: 'Andre Sa', 103082: 'Markus Hantschk', 102720: 'Tomas Zib', 103598: 'Xavier Malisse', 102233: 'Leander Paes', 102887: 'Ramon Delgado', 102998: 'Jan Michael Gambill', 101736: 'Andre Agassi', 103420: 'Michal Tabara', 101320: 'Magnus Gustafsson', 101543: 'Jeff Tarango', 101723: 'Magnus Larsson', 102104: 'Christian Ruud', 102872: 'James Sekulov', 102227: 'Sargis Sargsian', 102558: 'Eric Taino', 102162: 'Chris Woodruff', 102911: 'Andrei Stoliarov', 101889: 'Todd Woodbridge', 103031: 'Julian Alonso', 103240: 'Kevin Kim', 102021: 'Michael Chang', 102106: 'Davide Sanguinetti', 101902: 'Stephane Huet', 103834: 'Levar Harper Griffith', 102905: 'Stefan Koubek', 102768: 'Federico Browne', 102338: 'Yevgeny Kafelnikov', 102446: 'Andrei Medvedev', 101888: 'Daniel Vacek', 102563: 'Thomas Johansson', 102148: 'Fabrice Santoro', 103498: 'Marat Safin', 102271: 'Hicham Arazi', 103151: 'Mariano Zabaleta', 102450: 'Tim Henman', 102642: 'Cyril Saulnier', 102783: 'Rainer Schuettler', 102259: 'Jerome Golmard', 103507: 'Juan Carlos Ferrero', 102257: 'Greg Rusedski', 103096: 'Arnaud Clement', 101611: 'Cedric Pioline', 103252: 'Alberto Martin', 102035: 'Jonas Bjorkman', 102344: 'Karol Kucera', 102562: 'Jiri Novak', 102358: 'Thomas Enqvist', 102437: 'Adrian Voinea', 103103: 'Dominik Hrbaty', 102318: 'Andrei Pavel', 101820: 'Marc Rosset', 103344: 'Ivan Ljubicic', 101964: 'Goran Ivanisevic', 102286: 'Wayne Black', 103819: 'Roger Federer', 103017: 'Nicolas Kiefer', 103297: 'Alex Kim', 103292: 'Gaston Gaudio', 101965: 'Wayne Ferreira', 103324: 'Arnaud Di Pasquale', 102735: 'Cedric Kauffmann', 103894: 'Phillip King', 102839: 'Nicolas Lapentti', 103184: 'Bob Bryan', 103720: 'Lleyton Hewitt', 103714: 'Andreas Vinciguerra', 102369: 'Julien Boutter', 101647: 'Byron Black', 103758: 'Taylor Dent', 102701: 'Marcelo Rios', 102533: 'Jens Knippschild', 102443: 'Barry Cowan', 102770: 'John Van Lottum', 103264: 'Mariano Puerta', 101948: 'Pete Sampras', 102093: 'Martin Damm', 103294: 'Christophe Rochus', 102860: 'Agustin Calleri', 103457: 'Petr Kralert', 103176: 'David Sanchez', 103163: 'Tommy Haas', 102965: 'Jamie Delgado', 102703: 'Hyung Taik Lee', 102644: 'Franco Squillari', 102548: 'Juan Antonio Marin', 102950: 'Fernando Vicente', 101990: 'Richard Krajicek', 103694: 'Olivier Rochus', 103356: 'Michel Kratochvil', 102223: 'Karim Alami', 101962: 'Younes El Aynaoui', 101969: 'Orlin Stanoytchev', 101945: 'Thierry Guardiola', 103428: 'Juan Ignacio Chela', 103206: 'Sebastien Grosjean', 102110: 'Daniel Nestor', 103193: 'Peter Wessels', 102024: 'Hernan Gumy', 101897: 'Fernando Meligeni', 102247: 'Andrea Gaudenzi', 102539: 'Bohdan Ulihrach', 102854: 'Sjeng Schalken', 102694: 'Lars Burgsmuller', 103182: 'Markus Hipfl', 103018: 'Max Mirnyi', 102610: 'Albert Costa', 104053: 'Andy Roddick', 102722: 'Attila Savolt', 102796: 'Magnus Norman', 102374: 'Alex Corretja', 102652: 'Christian Vinck', 101792: 'Slava Dosedel', 101532: 'Francisco Clavet', 102845: 'Carlos Moya', 102025: 'Mikael Tillstrom', 101774: 'Todd Martin', 102434: 'Vincent Spadea', 103248: 'Harel Levy', 102882: 'Mark Philippoussis', 102287: 'Albert Portas', 103888: 'Mardy Fish', 102869: 'Galo Blanco', 102158: 'Patrick Rafter', 102184: 'David Prinosil', 101735: 'Richard Fromberg', 102567: 'George Bastl', 102856: 'Gustavo Kuerten', 102086: 'Igor Kornienko', 102538: 'Tuomas Ketola', 101932: 'Jared Palmer', 103166: 'Vladimir Voltchkov', 102231: 'Alex Calatrava', 101772: 'Andrei Cherkasov', 102053: 'Brian Macphie', 101750: 'Cristiano Caratti', 102809: 'Axel Pretzsch', 101956: 'Mark Knowles', 102477: 'Gaston Etlis', 101185: 'Mark Woodforde', 102494: 'Tomas Behrend', 101263: 'Luke Jensen', 101191: 'Richey Reneberg', 102269: 'Jeff Salzenstein', 101793: 'Jim Courier', 102456: 'Felix Mantilla', 103484: 'James Blake', 102765: 'Nicolas Escude', 102154: 'Marcos Ondruska', 101900: 'Nicklas Kulti', 102029: 'Filip Dewulf', 102537: 'Melvin Tong', 103709: 'Kristian Pless', 102851: 'Giorgio Galimberti', 101843: 'Sergi Bruguera', 102934: 'Nicolas Coutelot', 102831: 'Jacobo Diaz', 103045: 'Reginald Willems', 104022: 'Mikhail Youzhny', 102687: 'Herbert Wiltschnig', 103029: 'Mehdi Tahiri', 103007: 'Mounir El Aarej', 103171: 'Raemon Sluiter', 103174: 'Noam Okun', 103162: 'Dejan Petrovic', 102238: 'Alberto Berasategui', 102512: 'Joseph Sirianni', 102422: 'Michael Hill', 101463: 'Bernd Karbacher', 102300: 'Gouichi Motomura', 101711: 'Alex Obrien', 103566: 'Michael Llodra', 103084: 'Guillermo Canas', 102401: 'Scott Draper', 103157: 'Arvind Parmar', 102061: 'Kevin Ullyett', 103250: 'Rodolphe Cadart', 101917: 'Grant Stafford', 103060: 'Alejandro Hernandez', 102167: 'Juan Albert Viloca Puig', 102978: 'Zbynek Mlynarik', 103061: 'Jan Boruszewski', 102615: 'Dennis Van Scheppingen', 101806: 'Marc Kevin Goellner', 101373: 'Karsten Braasch', 102836: 'Rogier Wassen', 103385: 'Paul Baccanello', 103444: 'Jean Rene Lisnard', 101833: 'Michael Tebbutt', 102607: 'Juan Balcells', 103451: 'Bjorn Phau', 103350: 'Denis Golovanov', 103735: 'Lovro Zovko', 104282: 'Dennis Peschek', 102753: 'Wolfgang Schranz', 101997: 'Marzio Martelli', 102650: 'Roberto Carretero', 103256: 'Ivan Vajda', 102153: 'German Puentes', 103900: 'David Nalbandian', 103909: 'Guillermo Coria', 102984: 'Martin Garcia', 102520: 'Olivier Malcor', 101746: 'Renzo Furlan', 102817: 'Edwin Kempes', 101717: 'Diego Nargiso', 102944: 'Stefano Cobolli', 102243: 'Marcelo Charpentier', 103397: 'Alexandre Simoni', 103305: 'Daniel Elsner', 103118: 'Ion Moldovan', 102375: 'Dinu Pescariu', 102135: 'Emilio Benfele Alvarez', 102306: 'Michael Kohlmann', 103564: 'Jakub Herm Zahlava', 103003: 'Jean Francois Bachelot', 102629: 'Oscar Burrieza', 102574: 'Gabriel Trifu', 102251: 'Mariano Hood', 102689: 'Martin Spottl', 103201: 'Adrian Garcia', 102968: 'Jonathan Erlich', 102957: 'Vadim Kutsenko', 102087: 'Oleg Ogorodov', 103242: 'Juan Giner', 102795: 'Scott Humphries', 103781: 'Jurgen Melzer', 102103: 'Michael Sell', 103066: 'Mark Nielsen', 102785: 'Glenn Weiner', 102239: 'Francisco Costa', 102381: 'Werner Eschauer', 102524: 'Neville Godwin', 102457: 'Miles Maclagan', 103114: 'Martin Lee', 102198: 'Paul Kilderry', 103198: 'Justin Bower', 102572: 'Igor Gaudi', 102405: 'Mahesh Bhupathi', 102201: 'Lionel Roux', 102780: 'Frederic Niemeyer', 103225: 'Simon Larose', 101609: 'David Wheaton', 101821: 'Peter Tramacchi', 102910: 'Salvador Navarro', 103990: 'Tommy Robredo', 102395: 'Ville Liukko', 102904: 'Leos Friedl', 104026: 'Joachim Johansson', 103813: 'Jarkko Nieminen', 103158: 'Johan Ortegren', 103239: 'Marcus Sarstrand', 103751: 'Jonas Froberg', 103185: 'Mike Bryan', 102655: 'Jimy Szymanski', 101890: 'Jonathan Stark', 101703: 'Guillaume Raoux', 102234: 'Oliver Gross', 101938: 'Bernardo Mota', 103852: 'Feliciano Lopez', 101731: 'Nuno Marques', 102501: 'Johan Landsberg', 102772: 'Yu Zhang', 103337: 'Ben Qiang Zhu', 104156: 'Sunil Kumar', 102982: 'Yaoki Ishii', 103544: 'Andy Ram', 103381: 'Andy Fahlke', 102463: 'Lucas Arnold Ker', 102143: 'Nicolas Thomann', 102730: 'Ivo Heuberger', 104188: 'Diego Camacho', 103070: 'Christophe Pognon', 102502: 'Paul Harsanyi', 103270: 'Kristian Capalik', 102497: 'Mashiska Washington', 102410: 'David Caldwell', 103908: 'Paul Henri Mathieu', 102734: 'Lior Mor', 102118: 'Radomir Vasek', 101382: 'Marcelo Filippini', 102145: 'Francisco Cabello', 102168: 'Hector Moretti', 103487: 'Federico Luzzi', 103677: 'Andreas Fasching', 103216: 'Clemens Trimmel', 102755: 'Alex Witt', 102458: 'Jim Thomas', 103319: 'Jeff Morrison', 102617: 'Kim Tiilikainen', 103280: 'Martin Verkerk', 103373: 'Sergio Roitman', 103786: 'Nikolay Davydenko', 103348: 'Timo Fleischfresser', 102961: 'Nicklas Timfjord', 102023: 'Petr Luxa', 103401: 'Jan Hernych', 102600: 'David Miketa', 102956: 'Sultan Khalfan', 101439: 'Javier Sanchez', 102585: 'Sebastian Prieto', 102738: 'Stefano Tarallo', 103917: 'Nicolas Mahut', 102667: 'Satoshi Iwabuchi', 103792: 'Joji Miyao', 102863: 'Takao Suzuki', 102808: 'Kalle Flygt', 102263: 'Yong Il Yoon', 103131: 'Michihisa Onoda', 101991: 'Mauricio Hadad', 101167: 'Jaime Cortes', 104027: 'Pablo Gonzalez', 103202: 'Oscar Serrano', 103799: 'Eric Prodon', 102835: 'Luke Milligan', 102948: 'Oliver Freelove', 104014: 'Lee Childs', 103205: 'Emilio Daniel Baez Britez', 103739: 'Jose De Armas', 102830: 'Paulo Carvallo', 103286: 'Yohny Romero', 104243: 'Oscar Posada', 108582: 'Luis Perez Chete', 102036: 'Marco Osorio', 101840: 'Jacobo Chavez', 108583: 'Daniel Chavez Morales', 108584: 'Alexander Vasquez', 103632: 'Luis Horna', 104117: 'Giovanni Lapentti', 103525: 'Ivan Miranda', 102192: 'Luis Adrian Morejon', 108585: 'Americo Venero Montes', 102131: 'Alistair Hunt', 103439: 'Dimitri Mazur', 102536: 'James Greenhalgh', 102467: 'Fazaluddin Syed', 103377: 'Seung Hoon Lee', 102737: 'Gergely Kisgyorgy', 102979: 'Jeff Coetzee', 104000: 'Andrey Dernovskiy', 103824: 'Orest Tereshchuk', 103821: 'Danai Udomchoke', 102812: 'Jicham Zaatini', 102448: 'Ali Hamadeh', 117348: 'Y WANG', 102647: 'Alberto Brause', 101825: 'Manuel Tejada', 101976: 'Federico Dondo', 102283: 'Yari Bernardo', 104395: 'Marcel Felder', 108586: 'Augusto Sanabria', 102320: 'Lazaro Navarro Batles', 100754: 'Rafael Avalos Brenes', 108587: 'Kerlin Leon Zamora', 103905: 'Ricardo Chile Fonte', 102277: 'Bing Chao Lin', 108588: 'Asim Shafik', 103529: 'Aisam Ul Haq Qureshi', 102543: 'Chia Yen Tsai', 103499: 'Aqeel Khan', 102843: 'Suwandi Suwandi', 108589: 'Vasuthevan Ortchuan', 103504: 'Febi Widhiyanto', 101662: 'Selvam Veerasingam', 108590: 'Mohammed Nazreen Fuzi Nasruddin', 108591: 'Adam Jaya', 102528: 'Carlos Drada', 102076: 'Mark Merklein', 102756: 'Eduardo Rincon', 100997: 'Roger Smith', 103590: 'Michael Quintero', 103227: 'Mariano Sanchez', 103659: 'Wei Jen Cheng', 103400: 'Hendri Susilo Pramono', 108592: 'Pavel Baranov', 103612: 'Alexey Kedryuk', 108593: 'Wing Luen Wong', 108594: 'Johnny Arcilla', 108595: 'Mohammed Reza Tavakoli', 108596: 'Ramin Raziyani', 108597: 'Adelo Abadia', 103875: 'Anoosha Shahgholi', 108598: 'Rolando Ruel', 100943: 'Girts Dzelde', 106536: 'Andres Filimonov', 104339: 'Mario Ancic', 103807: 'Raimonds Sproga', 108599: 'Ivo Lagzdins', 102444: 'Scott Barron', 103877: 'Mike Scheidweiler', 104180: 'Gilles Muller', 103402: 'Peter Clarke', 108600: 'Sean Cooper', 101775: 'Frederik Fetterlein', 101939: 'Erhan Oral', 102918: 'Efe Ustundag', 102552: 'Baris Ergun', 108601: 'Bob Borella', 102556: 'Claude Ngoran', 103974: 'Aivaras Balzekas', 102549: 'Rolandas Murashka', 103568: 'Valentin Sanon', 103472: 'Karim Maamoun', 102959: 'Marko Tkalec', 104051: 'Andrej Kracman', 102362: 'Amro Ghoneim', 103342: 'Miha Gregorc', 101940: 'Rene Busch', 102100: 'Bartlomiej Dabrowski', 103287: 'Krystian Pfeiffer', 104063: 'Mait Kunnap', 108602: 'Alti Vahkal', 103690: 'Marcin Matkowski', 103296: 'Ivaylo Traykov', 102469: 'Solon Peppas', 103505: 'Vasilis Mazarakis', 101957: 'Milen Velev', 102139: 'Eyal Ran', 102107: 'Jan Frode Andersen', 101651: 'Owen Casey', 103333: 'Ivo Karlovic', 103851: 'Conor Niland', 101989: 'Patrik Langvardt', 102331: 'Ilou Lonfo', 108603: 'Helge Koll Frafjord', 103077: 'Konstantinos Economidis', 103899: 'Stian Boretti', 103053: 'Nikos Rovas', 108604: 'Pascal Schaul', 108605: 'Sacha Thoma', 101831: 'Mustafa Azkara', 108606: 'Gert Vilms', 108607: 'Andrei Luzgin', 103187: 'Hisham Hemeda', 108608: 'Marwan Zewar', 103936: 'Todor Enev', 101235: 'Paul Haarhuis', 103468: 'Harsh Mankad', 102165: 'Srinath Prahlad', 102077: 'Alexander Shvec', 110781: 'Vasilly Kazhera', 102250: 'Emanuel Couto', 103281: 'Ladislav Svarc', 108661: 'Dentry Mortimer', 102997: 'Hermes Gamonal', 103719: 'Ruben Torres', 108797: 'Luis Diego Nunez', 108651: 'Sandor Martinez Breijo', 108799: 'Jorge Tejada', 102740: 'Francisco Rodriguez', 108812: 'Jose Baires', 101947: 'Vincenzo Santopadre', 108624: 'Hazuan Hizan', 108621: 'Seyed Akbar Taheri Rahaghi', 102889: 'Hee Sung Chung', 104348: 'Dias Doskarayev', 102714: 'Ekkarin Pisuth Arnonth', 103483: 'James Shortall', 101416: 'Joao Cunha Silva', 101862: 'Maurice Ruah', 102938: 'Alejandro Olivera', 102800: 'Nenad Zimonjic', 102805: 'Matthew Breen', 103553: 'Alun Jones', 103393: 'Yuri Schukin', 102751: 'Todd Perry', 102921: 'Ota Fukarek', 103068: 'Chemseddine Belal', 102788: 'Jan Vacek', 104098: 'Dmitry Tursunov', 104068: 'Robby Ginepri', 104166: 'Alex Bogomolov Jr', 104076: 'Jose Acasuso', 102855: 'Jack Brasington', 102202: 'Kenneth Carlsen', 103063: 'Sebastien De Chaunac', 103580: 'Alexander Peya', 102473: 'Thomas Schiessling', 103594: 'Oliver Marach', 103153: 'Gilles Elseneer', 103912: 'Mario Radic', 103789: 'Irakli Labadze', 104034: 'Dmitry Vlasov', 103178: 'Johan Settergren', 101868: 'Dick Norman', 103133: 'Olivier Mutis', 103656: 'Albert Montanes', 102999: 'Stefano Galvani', 101495: 'Miguel Tobon', 102554: 'Diego Moyano', 102715: 'Ignacio Hirigoyen', 101937: 'Robbie Koenig', 103817: 'Yu Jr Wang', 103403: 'Takahiro Terachi', 103642: 'Shan Jiang', 102669: 'Noam Behr', 102529: 'Thomas Shimada', 103105: 'Ruben Ramirez Hidalgo', 104043: 'Marc Lopez', 102595: 'Helge Koll', 103835: 'Filippo Volandri', 102433: 'Mose Navarra', 103285: 'Radek Stepanek', 103530: 'Zack Fleishman', 102169: 'Michael Joyce', 103581: 'Flavio Saretta', 103015: 'Daniel Melo', 103862: 'Michail Elgin', 103282: 'Tiago Sousa', 102215: 'Joshua Eagle', 103914: 'Omar Awadhy', 104417: 'Robin Soderling', 102875: 'Luke Smith', 103102: 'John Hui', 102382: 'Julian Knowle', 104082: 'Hiroki Kondo', 103290: 'Radim Zitko', 103546: 'Patricio Arquez', 103898: 'Julien Benneteau', 104196: 'Carlos Cuadrado', 102886: 'Frantisek Cermak', 103754: 'Mark Hilton', 103497: 'Artem Derepasko', 101970: 'Iztok Bozic', 102811: 'Dusan Vemic', 101761: 'Jaime Oncins', 103672: 'Ricardo Mello', 103999: 'Thiago Alves', 103365: 'Javier Garcia Sintes', 103254: 'Yves Allegro', 102347: 'Dmitri Tomashevich', 102214: 'Oscar Ortiz', 104179: 'Bruno Echagaray', 103637: 'Marcelo Amador', 103998: 'Mario Monroy', 108609: 'Patrick Boza', 102832: 'Andrian Raturandang', 102310: 'Seung Bok Baek', 102713: 'Jing Zhu Yang', 102971: 'Christophe Bosio', 101855: 'Emmanuel Heussner', 103197: 'John Doran', 102868: 'Jonathan Printzlau', 103491: 'Mads Gottlieb', 103649: 'Esat Tanik', 108610: 'Tsolak Gevorgyan', 108611: 'Victor Ribas', 102814: 'Iurie Gorban', 104215: 'Andrei Gorban', 104213: 'Tigran Martirosyan', 108612: 'Sergei Cuptov', 108613: 'Davit Babayan', 103997: 'Lukasz Kubot', 103145: 'Amir Hadad', 104386: 'Janko Tipsarevic', 102544: 'Pablo Bianchi', 101790: 'Elmar Gerth', 103828: 'Jean Julien Rojer', 108614: 'Raoul Behr', 103638: 'Jhonson Garcia', 108615: 'Genaro Deleon', 108616: 'Walter Barahona', 103607: 'Victor Estrella', 103829: 'Cristian Paiz', 108617: 'Hussain Al Ashwak', 103600: 'Mohammad Ghareeb', 108618: 'Karim Alayli', 108619: 'Jad Ayoub', 108620: 'Adel Al Shatti', 101895: 'Michael Brown B395', 103050: 'Shahab Hassani Nafez', 108622: 'Samir Saadeldin', 108623: 'Rabi Bouhassoun', 108625: 'Mohammed Rajan Sundera Karuppiah', 104229: 'Yen Hsun Lu', 104499: 'Jimmy Wang', 104270: 'Marvin Rolle', 108626: 'Antonio Van Grichen', 102668: 'Tapio Nurminen', 108627: 'Kevin Jonckheer', 103593: 'Marcelo Barboza', 108628: 'Jhonnatan Medina Alvarez', 108629: 'Rodrigo Gabriel', 198630: 'Serge Dakessian', 108630: 'Jamal Darmadi', 108631: 'Wen Lung Chang', 103273: 'Dong Hyun Kim', 108632: 'Federico Camacho', 108633: 'Juan Carlos Gonzalez', 104268: 'Alejandro Falla', 108634: 'Rodrigo Vallejo', 108635: 'Juan Pablo Barboza', 104258: 'Juan Enrique Crosa', 108636: 'Lays Salim', 108637: 'Nomi Qamar', 108638: 'Yazan Al Kasim', 103229: 'Kornel Bardoczky', 107098: 'Gilles Kremer', 103583: 'Evghenii Plugariov', 108639: 'Maxime Koffi', 102702: 'Relja Fiser Dulic', 103746: 'Miguel Gallardo Valles', 102623: 'Thomas Larsen', 108657: 'Alexander Skrypko', 103421: 'Peter Handoyo', 104205: 'Taras Demyanekno', 103413: 'Genius Chidzikwe', 102967: 'Marc Gicquel', 102571: 'Gregory Carraz', 103693: 'Thierry Ascione', 104330: 'Rajeev Ram', 103371: 'Emin Agaev', 104548: 'Brian Baker', 103971: 'Karol Beck', 102565: 'Alexander Waske', 103715: 'Kirill Ivanov Smolensky', 103318: 'Zeljko Krajan', 103395: 'Julio Silva', 103948: 'Maximilian Abel', 103408: 'Brian Vahaly', 103988: 'Mariano Albert Ferrando', 104745: 'Rafael Nadal', 103923: 'Radoslaw Nijaki', 103970: 'David Ferrer', 104269: 'Fernando Verdasco', 103737: 'Edgardo Massa', 104259: 'Philipp Kohlschreiber', 102557: 'Daniel Willman', 104325: 'Johannes Ager', 104755: 'Richard Gasquet', 103823: 'Denis Gremelmayr', 103812: 'Victor Hanescu', 102693: 'Leonardo Olguin', 104503: 'Guillermo Hormazabal', 103228: 'Marcos Daniel', 102521: 'Hendrik Dreekmann', 103820: 'Alan Mackin', 103700: 'Juan Pablo Guzman', 104372: 'Alex Bogdanovic', 103092: 'Nuno Matias', 104004: 'Filip Prpic', 103165: 'Gorka Fraile', 102743: 'Ben Ellwood', 103506: 'Martin Vassallo Arguello', 104126: 'Adam Kennedy', 102902: 'Thomas Blake', 103358: 'Nicolas Todero', 103154: 'Jaymon Crabb', 103535: 'Olivier Patience', 104379: 'Todd Reid', 102464: 'Todd Larkham', 103837: 'Didac Perez', 104433: 'Frank Dancevic', 102285: 'Nasser Ghanim Al Khulaifi', 102865: 'Doug Bohaboy', 102472: 'Marcello Craca', 103047: 'Julien Varlet', 103325: 'Wesley Moodie', 102406: 'Thomas Dupre', 103857: 'Igor Kunitsyn', 103986: 'Radoslav Lukaev', 102630: 'Slimane Saoudi', 104250: 'Prakash Amritraj', 103663: 'Matias Boeker', 103104: 'Bjorn Rehnquist', 103080: 'Paul Hanley', 103097: 'Trevor Spracklin', 103490: 'Santiago Ventura', 104019: 'Kristof Vliegen', 102983: 'Henrik Andersson', 101924: 'Stefano Pescosolido', 102763: 'Benjamin Cassaigne', 103110: 'Daniele Bracciali', 103559: 'David Sherwood', 102603: 'Melvyn Op Der Heijde', 103592: 'Jerome Haehnel', 103033: 'Helder Lopes', 104557: 'Andis Juska', 102725: 'Kasper Warming', 108640: 'Mik Ledvonova', 103864: 'Mohamed Mamoun', 108641: 'Fredrik Aarum', 102942: 'Vladimir Pavicevic', 103130: 'Louis Vosloo', 103704: 'Vladimir Obradovic', 103825: 'Zsolt Tatar', 108642: 'Hayk Hakobyan', 102802: 'Gunther Darkey', 104138: 'Henry Adjei Darko', 104175: 'Matija Zgaga', 108643: 'Samuel Fumi', 104046: 'Bostjan Osabnik', 102097: 'Naratorn Srichaphan', 108644: 'Patrick Chucri', 108645: 'Musaad Al Jazzaf', 108646: 'Joseph Victorino', 108647: 'Anton Tsymbalov', 108648: 'Michael Mora', 104463: 'Dmitriy Makeyev', 103427: 'Yew Ming Si', 108649: 'Chris Numbers', 104136: 'Santiago Gonzalez', 108650: 'Peit Hein Boekel', 104421: 'Martin Vilarrubi', 108652: 'Shane Stone', 108653: 'Troy Stone', 108654: 'Tyler Mayers', 108655: 'Ivor Grazette', 108656: 'Simon Shen', 103860: 'Timo Nieminen', 102335: 'Taso Vasiliadis', 108658: 'Yanquiel Medina Sobrino', 104299: 'Hiu Tung Yu', 108659: 'Dannio Yahya', 102928: 'Hee Seok Chung', 108660: 'Fadi Youssef', 198661: 'Luis Felipe Noriega', 101638: 'Sean Karam', 103220: 'Oh Hee Kwon', 103523: 'Rohan Bopanna', 103065: 'Kepler Orellana', 103155: 'Ivo Bratanov', 101996: 'David Mullins', 104311: 'Leonardo Tavares', 104260: 'Johny De Leon', 108662: 'Lavaughn Munroe', 104008: 'Carlos Avellan', 108663: 'Bjorn Munroe', 108664: 'Martin Stiegwardt', 104618: 'Devin Mullings', 102969: 'Sergei Yaroshenko', 104162: 'Deniss Pavlovs', 108665: 'Alexandru Andronachi', 103142: 'Mohamed Wafa', 103573: 'Rik De Voest', 103317: 'Gabor Jaross', 103645: 'Balazs Veress', 108666: 'Harutyun Sofyan', 108667: 'Kwasi Ahenkora', 117349: 'F EGYIR', 104416: 'Tiago Godinho', 104011: 'Lefteris Alexiou', 103891: 'Alexandros Jakupovic', 102425: 'Niko Karagiannis', 104059: 'Rasmus Norby', 104233: 'Frederik Nielsen', 103435: 'Massimo Dellacqua', 103052: 'Mariano Delfino', 103429: 'Peter Luczak', 103470: 'Robert Kendrick', 104607: 'Tomas Berdych', 104056: 'Roko Karanusic', 104508: 'Robert Yim', 104025: 'Amer Delic', 103109: 'Talal Ouahabi', 103169: 'Oscar Hernandez', 104035: 'Bobby Reynolds', 104444: 'Ryan Henry', 103830: 'Shao Xuan Zeng', 104383: 'Diogo Rocha', 103730: 'Jonathan Marray', 103230: 'Tasuku Iwami', 103238: 'Jean Claude Scherrer', 104527: 'Stanislas Wawrinka', 103626: 'Tomas Tenconi', 103035: 'Alessio Di Mauro', 103849: 'Francesco Aldi', 104597: 'Nicolas Almagro', 104214: 'Igor Andreev', 103478: 'Diego Veronelli', 103808: 'Potito Starace', 104332: 'Philipp Petzschner', 103752: 'Simon Greul', 104312: 'Andreas Seppi', 103925: 'Gabriel Moraru', 103963: 'Filip Urban', 103586: 'Mariusz Fyrstenberg', 103609: 'Matthew Behrmann', 103621: 'Igor Levine', 103363: 'Diego Ayala', 104589: 'Chris Guccione', 103037: 'Andrew Carlson', 103722: 'Florent Serra', 102789: 'Jay Gooding', 104182: 'Sasa Tuksar', 103455: 'Michal Mertinak', 106764: 'Christopher Koderisch', 103841: 'Julio Peralta', 103711: 'Jaroslav Levinsky', 103699: 'Fred Hemmes', 103967: 'Michael Lammer', 104460: 'Dustin Brown', 104495: 'Florin Mergea', 103503: 'Robin Vik', 103353: 'Ingo Neumuller', 104230: 'Daniel Koellerer', 104171: 'Richard Bloomfield', 102864: 'Frank Moser', 103465: 'Paul Logtens', 103843: 'Marco Chiudinelli', 103921: 'Sonchat Ratiwatana', 103520: 'Pavel Snobel', 104154: 'Paul Capdeville', 104392: 'Franco Ferreiro', 102207: 'Jan Weinzierl', 104036: 'Simon Rea', 104198: 'Guillermo Garcia Lopez', 104439: 'Vadim Davletshin', 104295: 'Raphael Durek', 108672: 'William Lock', 103647: 'Jun Kato', 102873: 'Rob Cheyne', 103460: 'Konstantin Don Gruber', 104496: 'Luis Manuel Flores', 103020: 'Guillermo Carter', 108673: 'Leroy Tujeehut', 108674: 'Jerry Joseph', 108675: 'Iphton Louis', 104658: 'Gustavo Ramirez', 108676: 'Joel Allen', 104113: 'Carlos Salamanca', 108677: 'Daniel Isaza', 108678: 'Eddy Gonzalez Gonzalez', 108679: 'Jose Bernard', 103803: 'Ashkan Shokoofi', 101810: 'Asif Ismail', 104752: 'Dilshod Sharifi', 108680: 'Sergey Makashin', 102696: 'Guillaume Couillard', 104842: 'Salifu Mohammed', 103226: 'Walid Jallali', 104580: 'Haithem Abid', 104291: 'Malek Jaziri', 108681: 'Andrey Stepanov', 104592: 'Ilija Bozoljac', 107310: 'Jean Nabi', 108682: 'Stephen Nugent', 108683: 'Kenneth Tuilier Curco', 103125: 'Joan Jimenez Guerra', 108889: 'Marc Vilanova', 103736: 'Diego Acuna', 103407: 'Matt Klinger', 108890: 'Juan Carlos Rebaza Lozano', 104454: 'Murad Inoyatov', 102267: 'Gwinyai Tongoona', 101979: 'Ricardo Mena', 108891: 'Jose Antonio Velazquez', 104261: 'Peng Sun', 104251: 'Ti Chen', 104349: 'Rui Machado', 108892: 'Nejc Podkrajsek', 103666: 'Ilia Kushev', 104081: 'Boris Pashanski', 102055: 'Bertrand Madsen', 108893: 'Tarek Ben Soltane', 104093: 'Nickolai Dyachok', 108894: 'Pau Gerbaud Farras', 108895: 'Mohammed Fawzy', 108896: 'Shahzad Khan', 108897: 'Inam Gul', 103682: 'Kyu Tae Im', 103865: 'Prima Simpatiaji', 103514: 'Young Jun Kim', 108898: 'Christopher Eldon', 108899: 'Davin Russell', 103046: 'Janne Ojala', 108900: 'Thomas Haug', 108901: 'Zibusiso Ncube', 108902: 'Gwinyai Chingoka', 108903: 'Laurent Hild', 104469: 'Erling Tveit', 108904: 'Nigel Badza', 108905: 'Mansur Yakhyaev', 108906: 'Aziz Avganov', 104807: 'Mehdi Ziadi', 104195: 'Simone Vagnozzi', 104338: 'Juan Monaco', 104252: 'Florian Mayer', 103582: 'Michael Berrer', 104593: 'Daniel Gimeno Traver', 104914: 'Ervin Eleskovic', 104453: 'Michael Ryderstedt', 101871: 'Alexander Reichel', 103560: 'KJ Hippensteel', 104355: 'Lester Cook', 103847: 'Adrian Bohane', 104167: 'Todd Widom', 104639: 'Wayne Odesnik', 103328: 'Andres Pedroso', 104181: 'Victor Ionita', 104925: 'Novak Djokovic', 103534: 'Nicolas Devilder', 103716: 'Uros Vico', 104612: 'Daniel Yoo', 103527: 'Julien Jeanpierre', 104864: 'Alex Kuznetsov', 104571: 'Marcos Baghdatis', 104812: 'Scoville Jenkins', 104468: 'Gilles Simon', 104792: 'Gael Monfils', 104467: 'Lamine Ouahab', 103422: 'Sebastian Fitz', 104542: 'Jo Wilfried Tsonga', 103516: 'Nathan Healey', 104294: 'Hao Lu', 101869: 'Juan Luis Tati Rascon', 103565: 'Stephane Robert', 104010: 'Dieter Kindlmann', 103726: 'Jean Christophe Faurel', 103521: 'Andrea Stoppini', 103761: 'Tomas Cakl', 104219: 'Stephane Bohli', 104099: 'Israel Matos Gil', 104228: 'Guillem Burniol', 104308: 'Michal Przysiezny', 104676: 'Andreas Beck', 104273: 'Edouard Roger Vasselin', 104681: 'Sebastian Rieschick', 104559: 'Teymuraz Gabashvili', 104660: 'Sergiy Stakhovsky', 102545: 'Pedro Braga', 102985: 'Gustavo Marcaccio', 104717: 'Brendan Evans', 103039: 'Tripp Phillips', 103868: 'Ivan Navarro', 103657: 'Ivo Klec', 103369: 'Melle Van Gemerden', 104816: 'Karan Rastogi', 104371: 'Ivo Minar', 104485: 'Nick Van Der Meer', 103149: 'Mathias Hellstrom', 103339: 'Wesley Whitehouse', 103913: 'Ian Flanagan', 105259: 'Andrei Karatchenia', 104700: 'Daniel Vallverdu', 108907: 'Piero Demichelli', 105367: 'Daniel Alejandro Lopez Cassaccia', 104698: 'Diego Cubas', 104680: 'Bruno Rosa', 104738: 'Caio Zampieri', 104342: 'Matias Silva', 108908: 'Mario Alberto Cayo', 103563: 'Gabriel Pitta', 103334: 'Ronaldo Carvalho', 103987: 'Alessandro Camarco', 104474: 'Leonardo Kirche', 105273: 'Mauricio Echazu', 103920: 'Sanchai Ratiwatana', 108344: 'Tai Wei Liu', 104479: 'Sarvar Ikramov', 104286: 'Vishal Punna', 108909: 'Jalil Khan', 108910: 'Matthew Prentice', 108911: 'William Ward', 103937: 'Irakli Ushangishvili', 104569: 'Lado Chikhladze', 104378: 'Yordan Kanev', 104305: 'Luka Gregorc', 104523: 'Frederico Gil', 108912: 'Janis Skroderis', 103770: 'Kevin Sorensen', 104585: 'Gyorgy Balazs', 104086: 'Mikhail Filima', 108913: 'Frederick Sundsten', 102033: 'Abdelhak Hameurlaine', 108914: 'Rachid Baba Aissa', 104247: 'Sebo Kiss', 103419: 'Gabriel Montilla', 108915: 'Luis Haddock', 108916: 'Ricardo Gonzalez Diaz', 102496: 'Scott Willinsky', 104210: 'Ryan Russell', 103727: 'Daniel Langre', 104655: 'Pablo Cuevas', 104826: 'Federico Sansonetti', 108918: 'Favel Antonio Freyre Perdomo', 108919: 'Michael Ray Pallares Gonzalez', 108920: 'Federico Rodriguez', 104478: 'Hyun Woo Nam', 108921: 'Mohammed Noor Noordin', 108922: 'Will Farah Lebar', 108923: 'Wahib Maknieh', 104501: 'Xin Yuan Yu', 108924: 'Jing Yi Li', 104753: 'Woong Sun Jun', 102826: 'Muhammad Khaliq Siddiq', 104895: 'Abdullah Maqdas', 108925: 'Ahmad Rabeea Muhammad', 104609: 'Omar Hedayet', 108926: 'David Kvernadze', 103882: 'Adrians Zguns', 106886: 'Dmitro Tolok', 101316: 'Juan Rios', 104863: 'Olivier Sajous', 108927: 'Edgar Hernandez Perez', 108928: 'Saeid Ahmadvand', 104591: 'Patrick Tierro', 104424: 'Go Soeda', 103976: 'Juan Pablo Brzezicki', 104951: 'Aljoscha Thron', 104283: 'Minh Quan Do', 104918: 'Andy Murray', 104070: 'Jesse Witten', 104160: 'Lukas Dlouhy', 105385: 'Donald Young', 104635: 'Robert Smeets', 104732: 'Phillip Simmonds', 105048: 'Alex Clayton', 104558: 'Mohammed Abdulla', 104534: 'Dudi Sela', 104115: 'Marc Kimmich', 104926: 'Fabio Fognini', 104445: 'Jose Antonio Sanchez De Luna', 104851: 'Gianluca Naso', 104121: 'Tobias Summerer', 104122: 'Carlos Berlocq', 105252: 'Takahiro Ittogi', 105229: 'Philip Bester', 103510: 'Rob Steckley', 103975: 'Eric Nunez', 104003: 'Victor Crivoi', 103708: 'Jaroslav Pospisil', 104760: 'Scott Oudsema', 104001: 'Brian Wilson', 104287: 'Steven Korteling', 104624: 'Joshua Goodall', 104284: 'Frank Condor', 103775: 'Felipe Parada', 104037: 'Phillip Harboe', 103175: 'Toshihide Matsui', 104224: 'Travis Rettenmaier', 105227: 'Marin Cilic', 104783: 'Mikhail Ledovskikh', 104975: 'Evgeny Kirillov', 104486: 'Horia Tecau', 103032: 'Francisco Fogues', 104021: 'Marco Mirnegg', 104711: 'G Jones', 104360: 'Adam Chadaj', 103878: 'Zach Dailey', 103762: 'John Paul Fruttero', 103964: 'Tobias Klein', 103646: 'Lars Uebel', 104209: 'Rainer Eitzinger', 102945: 'Luke Bourgeois', 104743: 'Kamil Capkovic', 104327: 'Steve Darcis', 108929: 'Sergio Rojas', 108930: 'Juan Carlos Ramirez', 108931: 'Enzo Pigola', 103826: 'Carlos Palencia', 103316: 'Victor Romero', 108932: 'Pfungwa Mahefu', 107552: 'Laurent Bram', 104797: 'Denis Istomin', 104736: 'Farrukh Dustov', 104909: 'Sunu Wahyu Trijati', 104112: 'Benjamin Balleret', 104775: 'Adam Kellner', 104875: 'Denes Lukacs', 108934: 'Thomas Drouet', 104869: 'Sergei Bubka', 108935: 'Marius Tangen', 108936: 'Oskar Saarne', 104813: 'Grega Zemlja', 104582: 'Rok Jarc', 104689: 'Terence Nugent', 105208: 'Ernests Gulbis', 104873: 'Aleksandr Nedovyesov', 105145: 'Jaak Poldma', 108937: 'Mikk Irdoja', 108938: 'Charles Irie', 104438: 'Oscar Rodriguez Sanchez', 103946: 'Bruno Soares', 104531: 'Sergio Ramirez', 108939: 'Rasid Winklaar', 104976: 'Ryan Sweeting', 108940: 'David Josepa', 108941: 'Damar Johnson', 104996: 'Alexander Blom', 108942: 'Henry Estrella', 108943: 'Augusto Ricciardi Castelli', 110685: 'Gd Jones', 104907: 'Jose Rubin Statham', 108944: 'Stanislav Bykov', 104702: 'Michael Leong', 108945: 'Juan Sebastian Langton', 108946: 'Brett Baudinet', 104565: 'Hyun Joon Suk', 104040: 'Adam Thompson', 104368: 'Daniel King Turner', 104928: 'Sun Yong Kim Jr', 108947: 'West Nott', 104561: 'Jae Sung An', 103701: 'Diego Hartfield', 105095: 'Evgeny Korolev', 105223: 'Juan Martin Del Potro', 104871: 'Jeremy Chardy', 104515: 'Mathieu Montcourt', 104714: 'Julian Reister', 104225: 'Jan Hajek', 103794: 'Benjamin Becker', 103424: 'Tobias Clemens', 104620: 'Simone Bolelli', 105238: 'Alexandr Dolgopolov', 104253: 'Juan Martin Aranguren', 104317: 'David Luque Velasco', 105671: 'Gastao Elias', 103209: 'Leonardo Azzaro', 104890: 'Andreas Haider Maurer', 104208: 'Damian Patriarca', 103675: 'Diego Junqueira', 104488: 'Armin Sandbichler', 104898: 'Robin Haase', 104997: 'Igor Sijsling', 105217: 'Thiemo De Bakker', 105023: 'Sam Querrey', 105028: 'Jesse Levine', 105104: 'Robin Roshardt', 104519: 'Roman Vogeli', 104173: 'Sam Warburg', 104999: 'Mischa Zverev', 102881: 'David Skoch', 104161: 'Tomislav Peric', 102885: 'Vishal Uppal', 103684: 'Benedikt Dorsch', 104217: 'Simon Stadler', 104719: 'Marcel Granollers', 104779: 'Jamie Baker', 104272: 'Torsten Popp', 104678: 'Viktor Troicki', 102282: 'Tetsuya Chaen', 104505: 'Konstantin Kravchuk', 105231: 'Luka Belic', 103702: 'Stefano Ianni', 104262: 'Flavio Cipolla', 103747: 'Dominik Meffert', 105014: 'Antal Van Der Duim', 104477: 'Jorge Aguilar', 105066: 'Grzegorz Panfil', 103984: 'Julien Mathieu', 105098: 'Alexandre Sidorenko', 104770: 'Martin Fischer', 103893: 'Paolo Lorenzi', 103782: 'Rameez Junaid', 104007: 'Andre Ghem', 103623: 'Jacob Adaktusson', 105166: 'Peter Polansky', 103676: 'Michael Yani', 104831: 'Bartolome Salva Vidal', 104500: 'Somdev Devvarman', 105030: 'Michael Venus', 105501: 'Akash Wagh', 103538: 'James Auckland', 103653: 'Jasper Smit', 103949: 'Ivan Cerovic', 105016: 'Serguei Tarasevitch', 104619: 'Jesse Huta Galung', 103467: 'Victor Bruthans', 105041: 'Lukas Lacko', 108948: 'Alexandr Zotov', 104535: 'Daniel Garza', 104673: 'Julio Cesar Campozano', 108949: 'Jose Zunino', 108950: 'Juan Andres Gomez', 108951: 'Leonardo Ramirez', 104887: 'Piero Luisi', 105006: 'Chu Huan Yi', 104028: 'Goncalo Nicau', 103956: 'Stefan Wauters', 104437: 'Dekel Valtzer', 103978: 'Rabie Chaki', 105155: 'Pedro Sousa', 104800: 'Mauricio Estivariz', 108952: 'Jose Roberto Velasco', 108953: 'Juan Lorenzo Gonzalez', 108954: 'Carlos Alvarez', 105053: 'Santiago Giraldo', 104712: 'Israel Morales', 108955: 'Elvis Henry', 108956: 'Jesus Francisco Felix', 105497: 'Jose Hernandez', 108957: 'Jorge Villanueva', 108958: 'Damion Johnson', 108959: 'Eldad Campbell', 108960: 'Michael Lai', 108961: 'Abd Hazli Bin Zainuddin', 108962: 'Razlan Rawi', 105009: 'Elbert Sie', 108963: 'Mohammed Faizal Bin Othman', 108964: 'Faisal Aidil', 108966: 'Igor Chaldounov', 108967: 'Vitaliy Pavlov', 108968: 'Jason Sankey', 108969: 'Antoine Breikeh', 108970: 'John El Khoury', 108971: 'Georgio Bedran', 108972: 'Ibrahim Abou Chahine', 108973: 'Carl Sundberg', 104234: 'Predrag Rusevski', 103668: 'Lazar Magdincev', 105094: 'Paris Gemouchidis', 104476: 'Louk Sorensen', 104768: 'Juho Paukku', 104882: 'Blaz Kavcic', 104789: 'Sherif Sabry', 104323: 'Photos Kallias', 105122: 'Karlis Lejnieks', 104292: 'Izak Van Der Merwe', 103872: 'Dimitar Grabuloski', 103643: 'Lauri Kiiski', 104888: 'Martin Rmus', 108974: 'Christopher Koutrouzas', 108975: 'Petros Baghdatis', 104695: 'Fritz Wolmarans', 105062: 'Mikhail Kukushkin', 104707: 'Denis Matsukevitch', 105189: 'Pavel Chekhov', 104361: 'Michel Koning', 104545: 'John Isner', 105404: 'Michael Mcclune', 104586: 'Lukas Rosol', 104397: 'Laurent Recouderc', 105559: 'Jonathan Eysseric', 105131: 'Tim Goransson', 105453: 'Kei Nishikori', 105373: 'Martin Klizan', 104684: 'Navdeep Singh', 104646: 'Purav Raja', 104731: 'Kevin Anderson', 103805: 'Catalin Gard', 104665: 'Pablo Andujar', 104735: 'Tobias Kamke', 104897: 'Matthias Bachinger', 104978: 'Daniel Brands', 104095: 'David Guez', 104216: 'Maximo Gonzalez', 105137: 'Pere Riba', 104140: 'Dawid Olejniczak', 104227: 'Augustin Gensse', 104868: 'James Ward', 103924: 'Marc Fornell Mestres', 104297: 'Rogerio Dutra Silva', 104724: 'Eduardo Schwank', 104979: 'Andrey Golubev', 105579: 'Kittipong Wachiramanowong', 105402: 'Peerakiat Siriluethaiwattana', 103718: 'David Martin', 105194: 'Nick Lindahl', 105064: 'Thomaz Bellucci', 102963: 'Robert Lindstedt', 102388: 'Simon Aspelin', 104942: 'Roman Recarte', 104200: 'Juan Manuel Elizondo', 105261: 'Roberto Maytin', 105148: 'Hsin Han Lee', 104949: 'Weerapat Doakmaiklee', 105216: 'Yuichi Sugita', 104988: 'Vivek Shokeen', 104992: 'Syrym Abdukhalikov', 105159: 'Vaja Uzakov', 108976: 'George Chantouria', 108977: 'George Khrikadze', 104965: 'Pavol Cervenak', 105394: 'Ilija Martinoski', 104679: 'Jamie Murray', 105081: 'Jean Michel Durango', 108978: 'Nick Van Rosberg', 104763: 'Rafael Arevalo', 105656: 'Marcelo Arevalo', 108979: 'Benito Jose Suriano', 105419: 'Patricio Alvarado', 108980: 'Luis Delgado', 108981: 'Luis Javier Cuellar Contreras', 108982: 'Yasir Khan', 108983: 'Ali Ismaeel', 108984: 'Henry So', 105464: 'Christopher Rungkat', 104412: 'Matt Simpson', 108985: 'Ali Ghareeb', 104236: 'Rouzbeh Kamran', 108986: 'Gilbert Wong', 104952: 'Martin Pedersen', 105132: 'Jurgen Zopp', 103674: 'Jonathan Igbinovia', 104464: 'Abdul Mumin Babalola', 108987: 'Rihards Emulins', 108988: 'Mohamed Redha Ouahab', 108684: 'Mehdi Bouabbane', 108685: 'Frederick Sletting Johnsen', 103994: 'Philip Riise Hansen', 105149: 'Reda El Amrani', 105085: 'Artem Smirnov', 104613: 'Candy Idoko', 104484: 'Lawal Shehu', 105286: 'Greg Jones', 105777: 'Grigor Dimitrov', 104235: 'Matwe Middelkoop', 105099: 'Antonio Veic', 105575: 'Ricardas Berankis', 103437: 'Francesco Piccari', 103850: 'Sebastian Decoud', 103926: 'Daniel Munoz De La Nava', 104628: 'Alexander Kudryavtsev', 104986: 'Vishnu Vardhan', 104470: 'Komlavi Loglo', 105471: 'Cesar Ramirez', 104823: 'Bruno Rodriguez', 104721: 'Josselin Ouanna', 103543: 'David Marrero', 104091: 'Miguel Angel Lopez Jaen', 104149: 'Adrian Cruciat', 104314: 'Brian Dabul', 103822: 'Scott Lipsky', 105070: 'Hans Podlipnik Castillo', 105052: 'Chris Eaton', 104830: 'Matteo Marrai', 103448: 'Gabriel Trujillo Soler', 105065: 'Tim Smyczek', 104579: 'Romain Jouan', 105173: 'Adrian Mannarino', 105831: 'Marko Djokovic', 105554: 'Daniel Evans', 104334: 'Alberto Brizzi', 104667: 'Philipp Oswald', 104919: 'Leonardo Mayer', 105590: 'Uladzimir Ignatik', 105341: 'Thomas Fabbiano', 103763: 'Martin Slanar', 105454: 'Brydan Klein', 103076: 'Justin Oneal', 105220: 'Jun Chao Xu', 105339: 'Yan Bai', 105311: 'Joao Sousa', 104781: 'Yuichi Ito', 105147: 'Tatsuma Ito', 108993: 'Abdulla Hajji', 104692: 'Alexander Slabinsky', 105032: 'Samuel Groth', 105015: 'Franco Skugor', 104471: 'Ivan Dodig', 103748: 'Jan Minar', 108996: 'Mahmoud Nader Al Baloushi', 105992: 'Ryan Harrison', 108997: 'Clint Bowles', 104192: 'Marco Crugnola', 104281: 'Ryler Deheart', 104958: 'Carsten Ball', 105572: 'Austin Krajicek', 105668: 'Jerzy Janowicz', 105539: 'Evgeny Donskoy', 105738: 'Tsung Hua Yang', 105577: 'Vasek Pospisil', 105662: 'Tomislav Jotovski', 105101: 'Blazej Koniusz', 104810: 'Zhe Li', 108687: 'Rami Osman', 108688: 'Martin Sayer', 108689: 'Goran Bosalevski', 108690: 'Ayrton Wibowo', 108691: 'Khalid Al Nabhani', 108692: 'Mohammed Al Nabhani', 108693: 'Romano Tatuhey', 105111: 'Ivan Endara', 108694: 'Jason Engelhardt', 105221: 'Mauricio Doria Medina', 105002: 'Timothy Neilly', 108695: 'Roman Margoulis', 108696: 'Philippe Grandjean', 105573: 'Henri Kontinen', 105079: 'Ivan Sergeyev', 108697: 'Mahmoud Ezz', 108698: 'Slah Mbarek', 105074: 'Ruben Bemelmans', 101779: 'Pavel Vizner', 108699: 'Nodar Itonishvili', 104583: 'Filip Polasek', 108700: 'Revaz Osadze', 108701: 'Juan Sebastian Cabal', 104921: 'Kirati Siributwong', 105103: 'Pavel Katliarov', 105177: 'Aditya Hari Sasongko', 105003: 'Wan Gao', 104934: 'Thomas Kromann', 102254: 'Ouassel Hared', 104402: 'Clement Morel', 104352: 'Colin Obrien', 108702: 'George Kallis', 108703: 'Eleftherios Christou', 105011: 'Illya Marchenko', 105349: 'Harri Heliovaara', 108704: 'Konstantinos Mikos', 105463: 'Charalampos Kapogiannis', 105386: 'Janez Semrajc', 108705: 'Anis Ghorbel', 108706: 'Sulaiman Al Rawahi', 108707: 'Cesar Escobar Serrano', 104947: 'Marsel Ilhan', 104595: 'Sascha Kloer', 104504: 'Ross Hutchins', 104158: 'Andrew Anderson', 104071: 'Raven Klaasen', 105723: 'Andrey Kuznetsov', 105987: 'Mikhail Biryukov', 104547: 'Horacio Zeballos', 104415: 'Colin Fleming', 106026: 'Yuki Bhambri', 104550: 'Ricardo Hocevar', 105180: 'Daniel Dutra Da Silva', 105730: 'Devin Britton', 105783: 'Chase Buchanan', 105720: 'Stanislav Vovk', 105331: 'Petru Alexandru Luncanu', 105643: 'Federico Delbonis', 106090: 'Daniel Berta', 105936: 'Filip Krajinovic', 105440: 'Arsenije Zlatanovic', 105254: 'Nikola Mektic', 104672: 'Vincent Millot', 105960: 'Evan King', 105001: 'Mao Xin Gong', 105657: 'Marius Copil', 105138: 'Roberto Bautista Agut', 105906: 'Kevin Krawietz', 104211: 'Roman Valent', 104456: 'Colin Ebelthite', 106071: 'Bernard Tomic', 105558: 'Guillaume Rufin', 105683: 'Milos Raonic', 104896: 'Bruno Agostinelli', 104385: 'Lars Poerschke', 104644: 'Riccardo Ghedin', 104623: 'Josh Goodall', 103577: 'Christopher Kas', 108709: 'Dario Acosta', 105456: 'Sergio Galdos', 105431: 'Ariel Behar', 105029: 'Sergey Betov', 105781: 'Andrei Vasilevski', 108710: 'Shendrit Deari', 108711: 'Christopher Lawson', 108712: 'Brandon Burke', 103630: 'Martijn Van Haasteren', 105334: 'Luis David Martinez', 105499: 'Christopher Diaz Figueroa', 108713: 'Julen Uriguen', 108714: 'Christian Saravia', 105912: 'Diego Galeano', 108715: 'Nicolas Salama', 105488: 'Jose Benitez', 108716: 'Amaury Gomez', 104600: 'Treat Conrad Huey', 108717: 'Francis Casey Alcantara', 104908: 'Mikal Oliver Statham', 108718: 'Vicente Elberto Anasta', 104336: 'Gvidas Sabeckis', 106024: 'Dovydas Sakinis', 105633: 'Mohamed Safwat', 104603: 'Andrei Ciumac', 105430: 'Radu Albot', 106201: 'Maxim Dubarenco', 105226: 'Attila Balazs', 104910: 'Tihomir Grozdanov', 104067: 'Goran Tosic', 105187: 'Daniel Danilovic', 108719: 'Nemanja Kontic', 108720: 'Eddy Chala', 104945: 'James Mcgee', 108721: 'Philippos Tsangaridis', 105305: 'Valentin Dimov', 105967: 'Henri Laaksonen', 108722: 'Demetrios Leontis', 105585: 'Ze Zhang', 105842: 'Di Wu', 105790: 'Yong Kyu Lim', 108723: 'Alexander Tavkhelidze', 108724: 'Valentin Rahmine', 108725: 'Sid Ali Akkal', 108726: 'Dominic Pagon', 108727: 'Tyler Chin', 108728: 'Cheuk Wai Hui', 106664: 'Brian Hung', 108729: 'Hassan Al Mousa', 105084: 'James Lemke', 105438: 'Inigo Cervantes Huegun', 105376: 'Peter Gojowczyk', 105583: 'Dusan Lajovic', 104739: 'Guillermo Alcaide', 105332: 'Benoit Paire', 104948: 'Petar Jelenic', 105894: 'Javier Marti', 105077: 'Albert Ramos', 105917: 'Gianni Mina', 105614: 'Bradley Klahn', 106058: 'Jack Sock', 105116: 'Dusan Lojda', 104494: 'Adrian Ungur', 104594: 'Marinko Matosevic', 105051: 'Matthew Ebden', 106186: 'Jason Kubler', 105318: 'Thomas Schoorel', 105601: 'Cristobal Saavedra Corvalan', 105154: 'Joao Souza', 104661: 'Pierre Ludovic Duclos', 105449: 'Steve Johnson', 105357: 'John Millman', 105413: 'Andrej Martin', 101404: 'Thomas Muster', 104465: 'Martin Emmrich', 105589: 'Gerald Melzer', 105609: 'Ilya Belyaev', 104226: 'Bastian Knittel', 105872: 'Christian Lindell', 104850: 'Jonathan Dasnieres De Veigy', 104967: 'Alexander Sadecky', 105161: 'Yann Marti', 106006: 'Agustin Velotti', 106045: 'Denis Kudla', 104963: 'Yannick Mertens', 106105: 'Guilherme Clezar', 105128: 'Guillermo Olaso', 104651: 'Martin Alund', 105379: 'Aljaz Bedene', 106081: 'Thomas Jun Facchini Takemoto', 105262: 'Fernando Romboli', 105269: 'Marcelo Demoliner', 106123: 'Tiago Fernandes', 105827: 'Laurynas Grigelis', 103760: 'Haluk Akkoyun', 104489: 'Barry King', 104654: 'Baris Erguden', 103531: 'Thomas Oger', 105717: 'Tzvetan Mihov', 108734: 'Fredrik Ask', 108735: 'Rares Cuzdriorean', 104901: 'Vladimir Ivanov', 105916: 'Marton Fucsovics', 104191: 'Ismar Gorcic', 105060: 'Aldin Setkic', 105036: 'Hyun Joon Kim', 105012: 'Alexander Bury', 105625: 'Alvaro Raposo De Oliveira', 108736: 'Sebastian Moreno', 105156: 'Federico Zeballos', 108737: 'Marco Antonio Rojas', 108738: 'Claudio Dias Conduto', 108739: 'Wilfredo Gonzalez', 105899: 'Martin Cuevas', 104249: 'Marcelo Melo', 105731: 'Steven Diez', 108740: 'Cyril Jacobe', 106277: 'Ariez Elyaas Deen Heshaam', 105812: 'David Agung Susanto', 108741: 'Mohd Assri Merzuki', 108742: 'Siu Fai Kelvin Lam', 104631: 'Harshana Godamanna', 108743: 'Rajeev Rajapakse', 105961: 'David Souto', 108744: 'Rodrigo Rappaccioli', 106198: 'Hugo Dellien', 105442: 'Sebastien Vidal', 108745: 'Gino Meeuwsen', 104604: 'Ruben Gonzales', 106158: 'Suk Young Jeong', 108746: 'Austen Childs', 108747: 'Dineshkanthan Thangarajah', 108748: 'Lukas Mugevicius', 105641: 'Blaz Rola', 108749: 'Sergis Kyratzis', 106000: 'Damir Dzumhur', 104512: 'Ergun Zorlu', 105284: 'Tuna Altuna', 108750: 'Adrian Forberg Skogeng', 105408: 'Soren Wedege', 105877: 'Emilio Gomez', 104106: 'Ludovic Walter', 105638: 'Daniel Cox', 104857: 'Robert Farah', 104729: 'Ivan Nedelko', 106244: 'Oliver Golding', 105091: 'Peter Torebko', 105561: 'Alessandro Giannessi', 105676: 'David Goffin', 104778: 'Andrey Kumantsov', 105930: 'Daniel Kosakowski', 104677: 'Artem Sitak', 104932: 'Kenny De Schepper', 105649: 'Cedrik Marcel Stebe', 106233: 'Dominic Thiem', 105688: 'Manuel Sanchez', 106246: 'Robin Kern', 105270: 'Maxime Teixeira', 106243: 'Mate Delic', 106207: 'Mate Pavic', 105487: 'Facundo Bagnis', 104820: 'Erik Chvojka', 105807: 'Pablo Carreno Busta', 105283: 'Gerard Granollers', 103969: 'Roman Borvanov', 104633: 'Mathieu Rodrigues', 104023: 'Nicolas Renavand', 104640: 'Pablo Galdon', 105941: 'Felipe Rios', 105707: 'Nicolaas Scholtz', 105300: 'Sergio Gutierrez Ferrol', 108759: 'Sami Ghorbel', 108760: 'Slim Hamza', 106077: 'Mike Vermeer', 105004: 'Dimitar Kutrovsky', 106220: 'Dimitar Kuzmanov', 104377: 'Theodoros Angelinos', 108761: 'Mikelis Libietis', 105288: 'Guillermo Rivera Aranguiz', 105935: 'Duilio Beretta', 108762: 'Andres Weisskopf', 108763: 'Alberto Emmanuel Alvarado Larin', 105541: 'Alex Llompart', 108764: 'Chris Brandi', 108765: 'Jean Marc Bazanne', 106100: 'Micke Kontinen', 105201: 'Marc Abdulnour', 105681: 'Soong Jae Cho', 105372: 'Issam Al Tawil', 104146: 'Jonathan Chu', 108766: 'Samir Iftikhar', 105566: 'Shahin Khaledan', 105606: 'Mohsen Hossein Zade', 105152: 'Marcin Gawron', 104804: 'Amir Weintraub', 105521: 'Juan Sebastian Vivanco', 105428: 'Marcus Daniell', 106150: 'Jeson Patrombon', 108767: 'Gonzales Austin', 108768: 'Gabriel Flores Ruiz', 108769: 'Johann Coles', 108770: 'Nicholas Sayer', 105773: 'Bruno Abdel Nour', 103043: 'Coenie Van Wyk', 108771: 'Romain Radwan', 105493: 'Tomislav Brkic', 106342: 'Martins Podzus', 104839: 'Yassine Idmbarek', 105830: 'Hicham Khaddari', 108772: 'Julius Tverijonas', 108773: 'Julius Gotovskis', 104718: 'Luis Diaz Barriga', 108774: 'Marco Aurelio Nunez', 106184: 'Hong Chung', 105477: 'Marco Trungelliti', 104473: 'Walter Trusendi', 106281: 'Liam Broady', 103863: 'Mikhail Elgin', 104953: 'Nikolai Fidirko', 105113: 'Patrik Rosenholm', 105294: 'Dennis Lajola', 104971: 'Blake Strode', 104516: 'Arnau Brugues Davi', 105336: 'Nicolas Meister', 105902: 'James Duckworth', 106093: 'Benjamin Mitchell', 105757: 'Sandro Ehrat', 104970: 'Matteo Viola', 104629: 'Adrian Menendez Maceiras', 105874: 'Albano Olivetti', 105529: 'Carlos Gomez Herrera', 105655: 'Hiroki Moriya', 106325: 'Jabor Al Mutawa', 104693: 'Dominic Inglot', 106053: 'Philip Davydenko', 105072: 'Sanam Singh', 105175: 'Kristijan Mesaros', 105711: 'Dino Marcan', 105120: 'Andres Molteni', 104256: 'Clement Reix', 104893: 'Maxime Authom', 105550: 'Guido Pella', 105819: 'Guido Andreozzi', 105733: 'Rhyne Williams', 106261: 'Dennis Novikov', 108775: 'Aymeric Mara', 105255: 'Bassam Beidas', 108776: 'Vimuktha De Alwis', 106165: 'Diego Hidalgo', 105207: 'Andrei Daescu', 106199: 'Darius Florin Bragusi', 105434: 'Ruan Roelofse', 106247: 'Nik Razborsek', 104856: 'Min Hyoek Cho', 105946: 'Liang Chi Huang', 108777: 'Jae Min Seol', 105565: 'Ya Nan Ma', 106074: 'Jung Woong Na', 104920: 'Denys Molchanov', 104803: 'Younes Rachidi', 108778: 'Christos Hadjigeorgiou', 105909: 'Sam Barry', 105747: 'Karim Mohamed Maamoun', 105299: 'Dzmitry Zhyrmont', 105182: 'Antso Rakotondramanga', 108779: 'Jacob Rasolondrazana', 108780: 'Lofo Ramiaramanana', 108781: 'Ando Rasolomalala', 105436: 'Markus Eriksson', 105933: 'Roberto Quiroz', 106410: 'Jorge Brian Panta Herreros', 106169: 'Vladyslav Manafov', 104917: 'Anas Fattar', 108782: 'Mahammad Abid', 106309: 'Wisnu Adi Nugroho', 108783: 'Daniel Llarenas', 108784: 'Kevin Kung', 106426: 'Christian Garin', 105985: 'Darian King', 104656: 'Haydn Lewis', 108785: 'Anthony Marshall', 108786: 'Seanon Williams', 106232: 'Roberto Cid', 108787: 'Carlos Taborga', 106175: 'Ricardo Rodriguez', 108788: 'Jose Perdomo', 104858: 'Enrique Olivares', 108789: 'Rafa Orantes', 110602: 'Dennis Novak', 106298: 'Lucas Pouille', 106378: 'Kyle Edmund', 111513: 'Laslo Djere', 106397: 'Wishaya Trongcharoenchaikul', 111456: 'Mackenzie Mcdonald', 106043: 'Diego Sebastian Schwartzman', 111200: 'Elias Ymer', 105526: 'Jan Lennard Struff', 105806: 'Mirza Basic', 105080: 'Miloslav Mecir', 106148: 'Roberto Carballes Baena', 105591: 'Matt Reid', 106065: 'Marco Cecchinato', 105472: 'Nils Langer', 105427: 'Milos Sekulic', 104944: 'Niels Desein', 106032: 'Facundo Arguello', 106374: 'Filip Veger', 122279: 'Romain Bogaerts', 100644: 'Alexander Zverev', 111578: 'Stefan Kozlov', 104847: 'Adrien Bossel', 105302: 'Ante Pavic', 106210: 'Jiri Vesely', 106401: 'Nick Kyrgios', 123768: 'Collin Altamirano', 105528: 'Alexander Ward', 104960: 'Miguel Angel Reyes Varela', 104905: 'Nicolas Barrientos', 105292: 'Alejandro Gonzalez', 106228: 'Juan Ignacio Londero', 105679: 'Eduardo Struvay', 105100: 'Edward Corrie', 105441: 'John Patrick Smith', 106291: 'Luke Saville', 104627: 'Boy Westerhof', 104275: 'Josko Topic', 106432: 'Borna Coric', 111202: 'Hyeon Chung', 106234: 'Aslan Karatsev', 111575: 'Karen Khachanov', 105732: 'Pierre Hugues Herbert', 110476: 'Mousa Shanan Zayed', 106328: 'Christian Harrison', 110536: 'Kevin King', 106290: 'Filip Peliwo', 122687: 'Rodrigo Senattore', 124063: 'Santiago Maresca', 125571: 'Christian Garay', 106412: 'Lucas Gomez', 111751: 'Andres Bucaro', 125572: 'Hillel Rousseau', 105630: 'Tomislav Ternar', 109698: 'Christoffer Konigsfeldt', 105169: 'Jean Andersen', 106035: 'Isak Arvidsson', 125573: 'Michael Massih', 111181: 'Pruchya Isarow', 121908: 'Naser Al Obaidly', 125781: 'Rogelio Siller', 111797: 'Nicolas Jarry', 126209: 'Peter Bertran', 122047: 'Luciano Ramazzini', 105586: 'Alexander Lazov', 122260: 'Jaan Kononov', 122261: 'Marek Marksoo', 105852: 'Viktor Filipenko', 111167: 'Ugo Nastasi', 123983: 'Nerman Fatic', 117365: 'Petros Chrysochos', 125574: 'Soteris Hadjistyllis', 119511: 'Loic Didavi', 105278: 'Alexis Klegou', 106350: 'Andre Gaspar Murta', 121648: 'Tunde Segodo', 105239: 'Daniel Glancy', 125782: 'Kasparas Zemaitelis', 109520: 'Herkko Pollanen', 123814: 'Markus Kerner', 106078: 'Egor Gerasimov', 119506: 'Jean Segodo', 125783: 'Magloire Yakpa', 106381: 'Temur Ismailov', 104615: 'Ranjeet Virali Murugesan', 105482: 'Vijayant Malik', 106227: 'Ji Sung Nam', 106034: 'Yasutaka Uchiyama', 105271: 'Gonzalo Escobar', 105547: 'Dean Obrien', 126116: 'Jacob Coenraad De Klerk', 106423: 'Thanasi Kokkinakis', 111790: 'Brayden Schnur', 105882: 'Stefano Travaglia', 111444: 'Karim Hossam', 106121: 'Taro Daniel', 106174: 'Gonzalo Lama', 105613: 'Norbert Gombos', 105999: 'Bowen Ouyang', 106321: 'Xin Gao', 105952: 'Renzo Olivo', 126094: 'Andrey Rublev', 106066: 'Victor Baluda', 106353: 'Pedja Krstin', 105634: 'Viktor Galovic', 104993: 'Martin Vaisse', 111442: 'Jordan Thompson', 105853: 'Tigre Hank', 106368: 'Ramkumar Ramanathan', 105233: 'Jeevan Nedunchezhiyan', 105934: 'Chuhan Wang', 111156: 'Nathan Pasha', 106238: 'Andres Artunedo Martinavarr', 106283: 'Mitchell Krueger', 110636: 'Clay Thompson', 110748: 'Nikola Milojevic', 106430: 'Patrick Ciorcila', 105932: 'Nikoloz Basilashvili', 106362: 'Laurent Lokoli', 105678: 'Axel Michon', 105063: 'Andrea Arnaboldi', 105047: 'Tim Puetz', 105651: 'Daniel Smethurst', 105245: 'Fabiano De Paula', 117357: 'Omar Jasika', 105059: 'Kento Takeuchi', 104393: 'Gregoire Burquier', 111577: 'Jared Donaldson', 126207: 'Francis Tiafoe', 106218: 'Marcos Giron', 111511: 'Noah Rubin', 106415: 'Yoshihito Nishioka', 106293: 'Kimmer Coppejans', 106299: 'Bar Tzuf Botzer', 122109: 'Sanjar Fayziev', 118591: 'Russell Moseley', 134677: 'Juan Borba', 144771: 'Sebastian Quiros', 144772: 'Salvador Andres Bolanos', 144773: 'Jose Olivares', 144774: 'William Kirkman', 105031: 'Saketh Myneni', 105448: 'Hsien Yin Peng', 105490: 'Jui Chen Hung', 106237: 'Chieh Fu Wang', 105703: 'Jesus Bandres', 109529: 'Quang Huy Ngo', 106392: 'Thien Nguyen Hoang', 144775: 'Linh Giang Trinh', 106136: 'Warit Sornbutnark', 118053: 'Ognian Kolev', 106194: 'Nutthanon Kadchapanan', 126223: 'Abdulhameed Alshatti', 134886: 'Sharmal Dissanayake', 106393: 'Frederico Ferreira Silva', 105450: 'Mike Urbanija', 111781: 'Janis Podzus', 123915: 'Arturs Lazdins', 106033: 'Romain Arneodo', 123997: 'Joachim Bjerke', 126340: 'Viktor Durasovic', 134302: 'Mantas Bugailiskis', 109737: 'Markos Kalovelonis', 111426: 'John Morrissey', 144776: 'Christophe Tholl', 111453: 'Mikael Torpegaard', 104446: 'Dinko Halachev', 106387: 'Mazen Osama', 109336: 'Ayoub Chakrouni', 144777: 'Constantinos Ioannides', 144707: 'Mikael Ymer', 109739: 'Maximilian Marterer', 105542: 'Bastian Trinker', 105401: 'Matteo Trevisan', 105888: 'Toni Androic', 106216: 'Bjorn Fratangelo', 144719: 'Jaume Munar', 117356: 'Cem Ilkel', 104563: 'Luca Vanni', 111506: 'Maxime Hamou', 111460: 'Quentin Halys', 104822: 'N Vijay Sundar Prashanth', 106109: 'Alex Bolt', 123755: 'Daniel Elahi Galan Riveros', 105512: 'Alexander Sarkissian', 105826: 'Alejandro Gomez GB42', 104802: 'Fabrice Martin', 126205: 'Tommy Paul', 126152: 'Ryan Shane', 111190: 'Zhizhen Zhang', 105026: 'Takuto Niki', 105841: 'Lorenzo Giustino', 111192: 'Lucas Miedler', 123921: 'Calvin Hemery', 126203: 'Taylor Harry Fritz', 111153: 'Christopher Eubanks', 105943: 'Federico Gaio', 106390: 'Matteo Donati', 105963: 'Arthur De Greef', 106005: 'Constant Lestienne', 110754: 'David Vega Hernandez', 106138: 'Yaraslau Shyla', 105281: 'Eric Quigley', 105325: 'Germain Gigounon', 103902: 'Jan Mertl', 111805: 'Seong Chan Hong', 105587: 'Tom Kocevar Desman', 122548: 'Edan Leshem', 111794: 'Kamil Majchrzak', 126473: 'Aljaz Radinski', 127326: 'Ben Fatael', 122321: 'Marat Deviatiarov', 145016: 'Julian Saborio', 109257: 'Ignaci Roca', 121331: 'Pablo Nunez', 122669: 'Juan Pablo Varillas Patino Samudio', 121971: 'Duilio Vallebuona', 105820: 'Juan Carlos Saez', 126204: 'Gerardo Lopez Villasenor', 105467: 'Jordi Munoz Abreu', 144799: 'Miguel Angel Este', 145022: 'Nour Nehme', 120792: 'M Abid Ali Khan Akbar', 126681: 'Dawood Sayed Hashim', 120401: 'Tucker Vorster', 106249: 'Joao Domingues', 105250: 'Mehdi Jdi', 105759: 'Henrik Sillanpaa', 105626: 'Takanyi Garanganga', 111761: 'Benjamin Lock', 121896: 'Gabor Borsos', 145023: 'Maxim Bulat', 144854: 'Rudolfs Mednis', 105954: 'Peter Nagy', 200270: 'Alex Knaff', 132566: 'Dmitrii Baskov', 122513: 'Andrei Soltoianu', 200271: 'Egor Matvievici', 200272: 'Jean Jacques Rakotohasy', 134114: 'Jad Ballout', 200273: 'Hady Habib', 133301: 'Giovani Samaha', 200274: 'Alex Diaz', 123965: 'Rodrigo Banzer', 127570: 'Rodrigo Arus', 200537: 'Nicolas Xiviller', 126646: 'Tim Van Rijthoven', 200282: 'Alex De Minaur', 124014: 'Ernesto Escobedo', 106421: 'Daniil Medvedev', 106075: 'Jozef Kovalik', 106329: 'Thiago Monteiro', 134770: 'Casper Ruud', 105551: 'Anil Yuksel', 122570: 'Mubarak Al Harrasi', 111581: 'Michael Mmoh', 110686: 'Finn Tearney', 105881: 'Matthew Barton', 106331: 'Christopher Oconnell', 122330: 'Alexander Bublik', 106225: 'Andrew Whittington', 106361: 'Adam Pavlasek', 124187: 'Reilly Opelka', 106425: 'Blake Mott', 144642: 'Marcelo Tomas Barrios Vera', 200572: 'Nick Hardt', 122635: 'Alexander Merino', 117353: 'Duck Hee Lee', 126952: 'Soon Woo Kwon', 200075: 'Yshai Oliel', 131951: 'Daniel Cukierman', 128034: 'Hubert Hurkacz', 125802: 'Ilya Ivashka', 132040: 'Philip Wilbert Major', 106180: 'Spencer Newman', 132028: 'Justin Lunn', 137018: 'Ayed Zatar', 200621: 'Bruno Britez', 106250: 'Luis Patino', 202165: 'Alberto Lim', 200045: 'Anthony Susanto', 127143: 'Jirat Navasirisomboon', 106085: 'Hamid Reza Nadaf', 138846: 'Hong Kit Jack Wong', 122533: 'Nam Hoang Ly', 124023: 'Hei Yin Andrew Li', 144750: 'Lloyd George Muirhead Harris', 144940: 'Mattias Siimar', 144814: 'Eero Vasa', 106106: 'George Tsivadze', 200325: 'Emil Ruusuvuori', 145003: 'Lucas Andriamasilalao', 126689: 'Tadas Babelis', 202219: 'Tomas Vaise', 144760: 'Amine Ahouda', 126526: 'Soren Hess Olesen', 200031: 'Lucas Catarina', 105798: 'Tilen Zitnik', 202382: 'Simen Sunde Bratholm', 202212: 'Mohamed Aziz Dougaz', 144949: 'Menelaos Efstathiou', 123795: 'Altug Celikbilek', 123315: 'Nicholas Campbell', 133430: 'Denis Shapovalov', 105596: 'Jan Satral', 134472: 'Antoine Bellier'}\n",
            "2053\n",
            "{102179: 0, 102776: 1, 103602: 2, 102821: 3, 103387: 4, 102205: 5, 101733: 6, 102925: 7, 101727: 8, 101826: 9, 103181: 10, 101885: 11, 101675: 12, 102455: 13, 102834: 14, 101086: 15, 103454: 16, 102133: 17, 102466: 18, 102966: 19, 103188: 20, 103204: 21, 101150: 22, 102880: 23, 103009: 24, 102987: 25, 103082: 26, 102720: 27, 103598: 28, 102233: 29, 102887: 30, 102998: 31, 101736: 32, 103420: 33, 101320: 34, 101543: 35, 101723: 36, 102104: 37, 102872: 38, 102227: 39, 102558: 40, 102162: 41, 102911: 42, 101889: 43, 103031: 44, 103240: 45, 102021: 46, 102106: 47, 101902: 48, 103834: 49, 102905: 50, 102768: 51, 102338: 52, 102446: 53, 101888: 54, 102563: 55, 102148: 56, 103498: 57, 102271: 58, 103151: 59, 102450: 60, 102642: 61, 102783: 62, 102259: 63, 103507: 64, 102257: 65, 103096: 66, 101611: 67, 103252: 68, 102035: 69, 102344: 70, 102562: 71, 102358: 72, 102437: 73, 103103: 74, 102318: 75, 101820: 76, 103344: 77, 101964: 78, 102286: 79, 103819: 80, 103017: 81, 103297: 82, 103292: 83, 101965: 84, 103324: 85, 102735: 86, 103894: 87, 102839: 88, 103184: 89, 103720: 90, 103714: 91, 102369: 92, 101647: 93, 103758: 94, 102701: 95, 102533: 96, 102443: 97, 102770: 98, 103264: 99, 101948: 100, 102093: 101, 103294: 102, 102860: 103, 103457: 104, 103176: 105, 103163: 106, 102965: 107, 102703: 108, 102644: 109, 102548: 110, 102950: 111, 101990: 112, 103694: 113, 103356: 114, 102223: 115, 101962: 116, 101969: 117, 101945: 118, 103428: 119, 103206: 120, 102110: 121, 103193: 122, 102024: 123, 101897: 124, 102247: 125, 102539: 126, 102854: 127, 102694: 128, 103182: 129, 103018: 130, 102610: 131, 104053: 132, 102722: 133, 102796: 134, 102374: 135, 102652: 136, 101792: 137, 101532: 138, 102845: 139, 102025: 140, 101774: 141, 102434: 142, 103248: 143, 102882: 144, 102287: 145, 103888: 146, 102869: 147, 102158: 148, 102184: 149, 101735: 150, 102567: 151, 102856: 152, 102086: 153, 102538: 154, 101932: 155, 103166: 156, 102231: 157, 101772: 158, 102053: 159, 101750: 160, 102809: 161, 101956: 162, 102477: 163, 101185: 164, 102494: 165, 101263: 166, 101191: 167, 102269: 168, 101793: 169, 102456: 170, 103484: 171, 102765: 172, 102154: 173, 101900: 174, 102029: 175, 102537: 176, 103709: 177, 102851: 178, 101843: 179, 102934: 180, 102831: 181, 103045: 182, 104022: 183, 102687: 184, 103029: 185, 103007: 186, 103171: 187, 103174: 188, 103162: 189, 102238: 190, 102512: 191, 102422: 192, 101463: 193, 102300: 194, 101711: 195, 103566: 196, 103084: 197, 102401: 198, 103157: 199, 102061: 200, 103250: 201, 101917: 202, 103060: 203, 102167: 204, 102978: 205, 103061: 206, 102615: 207, 101806: 208, 101373: 209, 102836: 210, 103385: 211, 103444: 212, 101833: 213, 102607: 214, 103451: 215, 103350: 216, 103735: 217, 104282: 218, 102753: 219, 101997: 220, 102650: 221, 103256: 222, 102153: 223, 103900: 224, 103909: 225, 102984: 226, 102520: 227, 101746: 228, 102817: 229, 101717: 230, 102944: 231, 102243: 232, 103397: 233, 103305: 234, 103118: 235, 102375: 236, 102135: 237, 102306: 238, 103564: 239, 103003: 240, 102629: 241, 102574: 242, 102251: 243, 102689: 244, 103201: 245, 102968: 246, 102957: 247, 102087: 248, 103242: 249, 102795: 250, 103781: 251, 102103: 252, 103066: 253, 102785: 254, 102239: 255, 102381: 256, 102524: 257, 102457: 258, 103114: 259, 102198: 260, 103198: 261, 102572: 262, 102405: 263, 102201: 264, 102780: 265, 103225: 266, 101609: 267, 101821: 268, 102910: 269, 103990: 270, 102395: 271, 102904: 272, 104026: 273, 103813: 274, 103158: 275, 103239: 276, 103751: 277, 103185: 278, 102655: 279, 101890: 280, 101703: 281, 102234: 282, 101938: 283, 103852: 284, 101731: 285, 102501: 286, 102772: 287, 103337: 288, 104156: 289, 102982: 290, 103544: 291, 103381: 292, 102463: 293, 102143: 294, 102730: 295, 104188: 296, 103070: 297, 102502: 298, 103270: 299, 102497: 300, 102410: 301, 103908: 302, 102734: 303, 102118: 304, 101382: 305, 102145: 306, 102168: 307, 103487: 308, 103677: 309, 103216: 310, 102755: 311, 102458: 312, 103319: 313, 102617: 314, 103280: 315, 103373: 316, 103786: 317, 103348: 318, 102961: 319, 102023: 320, 103401: 321, 102600: 322, 102956: 323, 101439: 324, 102585: 325, 102738: 326, 103917: 327, 102667: 328, 103792: 329, 102863: 330, 102808: 331, 102263: 332, 103131: 333, 101991: 334, 101167: 335, 104027: 336, 103202: 337, 103799: 338, 102835: 339, 102948: 340, 104014: 341, 103205: 342, 103739: 343, 102830: 344, 103286: 345, 104243: 346, 108582: 347, 102036: 348, 101840: 349, 108583: 350, 108584: 351, 103632: 352, 104117: 353, 103525: 354, 102192: 355, 108585: 356, 102131: 357, 103439: 358, 102536: 359, 102467: 360, 103377: 361, 102737: 362, 102979: 363, 104000: 364, 103824: 365, 103821: 366, 102812: 367, 102448: 368, 117348: 369, 102647: 370, 101825: 371, 101976: 372, 102283: 373, 104395: 374, 108586: 375, 102320: 376, 100754: 377, 108587: 378, 103905: 379, 102277: 380, 108588: 381, 103529: 382, 102543: 383, 103499: 384, 102843: 385, 108589: 386, 103504: 387, 101662: 388, 108590: 389, 108591: 390, 102528: 391, 102076: 392, 102756: 393, 100997: 394, 103590: 395, 103227: 396, 103659: 397, 103400: 398, 108592: 399, 103612: 400, 108593: 401, 108594: 402, 108595: 403, 108596: 404, 108597: 405, 103875: 406, 108598: 407, 100943: 408, 106536: 409, 104339: 410, 103807: 411, 108599: 412, 102444: 413, 103877: 414, 104180: 415, 103402: 416, 108600: 417, 101775: 418, 101939: 419, 102918: 420, 102552: 421, 108601: 422, 102556: 423, 103974: 424, 102549: 425, 103568: 426, 103472: 427, 102959: 428, 104051: 429, 102362: 430, 103342: 431, 101940: 432, 102100: 433, 103287: 434, 104063: 435, 108602: 436, 103690: 437, 103296: 438, 102469: 439, 103505: 440, 101957: 441, 102139: 442, 102107: 443, 101651: 444, 103333: 445, 103851: 446, 101989: 447, 102331: 448, 108603: 449, 103077: 450, 103899: 451, 103053: 452, 108604: 453, 108605: 454, 101831: 455, 108606: 456, 108607: 457, 103187: 458, 108608: 459, 103936: 460, 101235: 461, 103468: 462, 102165: 463, 102077: 464, 110781: 465, 102250: 466, 103281: 467, 108661: 468, 102997: 469, 103719: 470, 108797: 471, 108651: 472, 108799: 473, 102740: 474, 108812: 475, 101947: 476, 108624: 477, 108621: 478, 102889: 479, 104348: 480, 102714: 481, 103483: 482, 101416: 483, 101862: 484, 102938: 485, 102800: 486, 102805: 487, 103553: 488, 103393: 489, 102751: 490, 102921: 491, 103068: 492, 102788: 493, 104098: 494, 104068: 495, 104166: 496, 104076: 497, 102855: 498, 102202: 499, 103063: 500, 103580: 501, 102473: 502, 103594: 503, 103153: 504, 103912: 505, 103789: 506, 104034: 507, 103178: 508, 101868: 509, 103133: 510, 103656: 511, 102999: 512, 101495: 513, 102554: 514, 102715: 515, 101937: 516, 103817: 517, 103403: 518, 103642: 519, 102669: 520, 102529: 521, 103105: 522, 104043: 523, 102595: 524, 103835: 525, 102433: 526, 103285: 527, 103530: 528, 102169: 529, 103581: 530, 103015: 531, 103862: 532, 103282: 533, 102215: 534, 103914: 535, 104417: 536, 102875: 537, 103102: 538, 102382: 539, 104082: 540, 103290: 541, 103546: 542, 103898: 543, 104196: 544, 102886: 545, 103754: 546, 103497: 547, 101970: 548, 102811: 549, 101761: 550, 103672: 551, 103999: 552, 103365: 553, 103254: 554, 102347: 555, 102214: 556, 104179: 557, 103637: 558, 103998: 559, 108609: 560, 102832: 561, 102310: 562, 102713: 563, 102971: 564, 101855: 565, 103197: 566, 102868: 567, 103491: 568, 103649: 569, 108610: 570, 108611: 571, 102814: 572, 104215: 573, 104213: 574, 108612: 575, 108613: 576, 103997: 577, 103145: 578, 104386: 579, 102544: 580, 101790: 581, 103828: 582, 108614: 583, 103638: 584, 108615: 585, 108616: 586, 103607: 587, 103829: 588, 108617: 589, 103600: 590, 108618: 591, 108619: 592, 108620: 593, 101895: 594, 103050: 595, 108622: 596, 108623: 597, 108625: 598, 104229: 599, 104499: 600, 104270: 601, 108626: 602, 102668: 603, 108627: 604, 103593: 605, 108628: 606, 108629: 607, 198630: 608, 108630: 609, 108631: 610, 103273: 611, 108632: 612, 108633: 613, 104268: 614, 108634: 615, 108635: 616, 104258: 617, 108636: 618, 108637: 619, 108638: 620, 103229: 621, 107098: 622, 103583: 623, 108639: 624, 102702: 625, 103746: 626, 102623: 627, 108657: 628, 103421: 629, 104205: 630, 103413: 631, 102967: 632, 102571: 633, 103693: 634, 104330: 635, 103371: 636, 104548: 637, 103971: 638, 102565: 639, 103715: 640, 103318: 641, 103395: 642, 103948: 643, 103408: 644, 103988: 645, 104745: 646, 103923: 647, 103970: 648, 104269: 649, 103737: 650, 104259: 651, 102557: 652, 104325: 653, 104755: 654, 103823: 655, 103812: 656, 102693: 657, 104503: 658, 103228: 659, 102521: 660, 103820: 661, 103700: 662, 104372: 663, 103092: 664, 104004: 665, 103165: 666, 102743: 667, 103506: 668, 104126: 669, 102902: 670, 103358: 671, 103154: 672, 103535: 673, 104379: 674, 102464: 675, 103837: 676, 104433: 677, 102285: 678, 102865: 679, 102472: 680, 103047: 681, 103325: 682, 102406: 683, 103857: 684, 103986: 685, 102630: 686, 104250: 687, 103663: 688, 103104: 689, 103080: 690, 103097: 691, 103490: 692, 104019: 693, 102983: 694, 101924: 695, 102763: 696, 103110: 697, 103559: 698, 102603: 699, 103592: 700, 103033: 701, 104557: 702, 102725: 703, 108640: 704, 103864: 705, 108641: 706, 102942: 707, 103130: 708, 103704: 709, 103825: 710, 108642: 711, 102802: 712, 104138: 713, 104175: 714, 108643: 715, 104046: 716, 102097: 717, 108644: 718, 108645: 719, 108646: 720, 108647: 721, 108648: 722, 104463: 723, 103427: 724, 108649: 725, 104136: 726, 108650: 727, 104421: 728, 108652: 729, 108653: 730, 108654: 731, 108655: 732, 108656: 733, 103860: 734, 102335: 735, 108658: 736, 104299: 737, 108659: 738, 102928: 739, 108660: 740, 198661: 741, 101638: 742, 103220: 743, 103523: 744, 103065: 745, 103155: 746, 101996: 747, 104311: 748, 104260: 749, 108662: 750, 104008: 751, 108663: 752, 108664: 753, 104618: 754, 102969: 755, 104162: 756, 108665: 757, 103142: 758, 103573: 759, 103317: 760, 103645: 761, 108666: 762, 108667: 763, 117349: 764, 104416: 765, 104011: 766, 103891: 767, 102425: 768, 104059: 769, 104233: 770, 103435: 771, 103052: 772, 103429: 773, 103470: 774, 104607: 775, 104056: 776, 104508: 777, 104025: 778, 103109: 779, 103169: 780, 104035: 781, 104444: 782, 103830: 783, 104383: 784, 103730: 785, 103230: 786, 103238: 787, 104527: 788, 103626: 789, 103035: 790, 103849: 791, 104597: 792, 104214: 793, 103478: 794, 103808: 795, 104332: 796, 103752: 797, 104312: 798, 103925: 799, 103963: 800, 103586: 801, 103609: 802, 103621: 803, 103363: 804, 104589: 805, 103037: 806, 103722: 807, 102789: 808, 104182: 809, 103455: 810, 106764: 811, 103841: 812, 103711: 813, 103699: 814, 103967: 815, 104460: 816, 104495: 817, 103503: 818, 103353: 819, 104230: 820, 104171: 821, 102864: 822, 103465: 823, 103843: 824, 103921: 825, 103520: 826, 104154: 827, 104392: 828, 102207: 829, 104036: 830, 104198: 831, 104439: 832, 104295: 833, 108672: 834, 103647: 835, 102873: 836, 103460: 837, 104496: 838, 103020: 839, 108673: 840, 108674: 841, 108675: 842, 104658: 843, 108676: 844, 104113: 845, 108677: 846, 108678: 847, 108679: 848, 103803: 849, 101810: 850, 104752: 851, 108680: 852, 102696: 853, 104842: 854, 103226: 855, 104580: 856, 104291: 857, 108681: 858, 104592: 859, 107310: 860, 108682: 861, 108683: 862, 103125: 863, 108889: 864, 103736: 865, 103407: 866, 108890: 867, 104454: 868, 102267: 869, 101979: 870, 108891: 871, 104261: 872, 104251: 873, 104349: 874, 108892: 875, 103666: 876, 104081: 877, 102055: 878, 108893: 879, 104093: 880, 108894: 881, 108895: 882, 108896: 883, 108897: 884, 103682: 885, 103865: 886, 103514: 887, 108898: 888, 108899: 889, 103046: 890, 108900: 891, 108901: 892, 108902: 893, 108903: 894, 104469: 895, 108904: 896, 108905: 897, 108906: 898, 104807: 899, 104195: 900, 104338: 901, 104252: 902, 103582: 903, 104593: 904, 104914: 905, 104453: 906, 101871: 907, 103560: 908, 104355: 909, 103847: 910, 104167: 911, 104639: 912, 103328: 913, 104181: 914, 104925: 915, 103534: 916, 103716: 917, 104612: 918, 103527: 919, 104864: 920, 104571: 921, 104812: 922, 104468: 923, 104792: 924, 104467: 925, 103422: 926, 104542: 927, 103516: 928, 104294: 929, 101869: 930, 103565: 931, 104010: 932, 103726: 933, 103521: 934, 103761: 935, 104219: 936, 104099: 937, 104228: 938, 104308: 939, 104676: 940, 104273: 941, 104681: 942, 104559: 943, 104660: 944, 102545: 945, 102985: 946, 104717: 947, 103039: 948, 103868: 949, 103657: 950, 103369: 951, 104816: 952, 104371: 953, 104485: 954, 103149: 955, 103339: 956, 103913: 957, 105259: 958, 104700: 959, 108907: 960, 105367: 961, 104698: 962, 104680: 963, 104738: 964, 104342: 965, 108908: 966, 103563: 967, 103334: 968, 103987: 969, 104474: 970, 105273: 971, 103920: 972, 108344: 973, 104479: 974, 104286: 975, 108909: 976, 108910: 977, 108911: 978, 103937: 979, 104569: 980, 104378: 981, 104305: 982, 104523: 983, 108912: 984, 103770: 985, 104585: 986, 104086: 987, 108913: 988, 102033: 989, 108914: 990, 104247: 991, 103419: 992, 108915: 993, 108916: 994, 102496: 995, 104210: 996, 103727: 997, 104655: 998, 104826: 999, 108918: 1000, 108919: 1001, 108920: 1002, 104478: 1003, 108921: 1004, 108922: 1005, 108923: 1006, 104501: 1007, 108924: 1008, 104753: 1009, 102826: 1010, 104895: 1011, 108925: 1012, 104609: 1013, 108926: 1014, 103882: 1015, 106886: 1016, 101316: 1017, 104863: 1018, 108927: 1019, 108928: 1020, 104591: 1021, 104424: 1022, 103976: 1023, 104951: 1024, 104283: 1025, 104918: 1026, 104070: 1027, 104160: 1028, 105385: 1029, 104635: 1030, 104732: 1031, 105048: 1032, 104558: 1033, 104534: 1034, 104115: 1035, 104926: 1036, 104445: 1037, 104851: 1038, 104121: 1039, 104122: 1040, 105252: 1041, 105229: 1042, 103510: 1043, 103975: 1044, 104003: 1045, 103708: 1046, 104760: 1047, 104001: 1048, 104287: 1049, 104624: 1050, 104284: 1051, 103775: 1052, 104037: 1053, 103175: 1054, 104224: 1055, 105227: 1056, 104783: 1057, 104975: 1058, 104486: 1059, 103032: 1060, 104021: 1061, 104711: 1062, 104360: 1063, 103878: 1064, 103762: 1065, 103964: 1066, 103646: 1067, 104209: 1068, 102945: 1069, 104743: 1070, 104327: 1071, 108929: 1072, 108930: 1073, 108931: 1074, 103826: 1075, 103316: 1076, 108932: 1077, 107552: 1078, 104797: 1079, 104736: 1080, 104909: 1081, 104112: 1082, 104775: 1083, 104875: 1084, 108934: 1085, 104869: 1086, 108935: 1087, 108936: 1088, 104813: 1089, 104582: 1090, 104689: 1091, 105208: 1092, 104873: 1093, 105145: 1094, 108937: 1095, 108938: 1096, 104438: 1097, 103946: 1098, 104531: 1099, 108939: 1100, 104976: 1101, 108940: 1102, 108941: 1103, 104996: 1104, 108942: 1105, 108943: 1106, 110685: 1107, 104907: 1108, 108944: 1109, 104702: 1110, 108945: 1111, 108946: 1112, 104565: 1113, 104040: 1114, 104368: 1115, 104928: 1116, 108947: 1117, 104561: 1118, 103701: 1119, 105095: 1120, 105223: 1121, 104871: 1122, 104515: 1123, 104714: 1124, 104225: 1125, 103794: 1126, 103424: 1127, 104620: 1128, 105238: 1129, 104253: 1130, 104317: 1131, 105671: 1132, 103209: 1133, 104890: 1134, 104208: 1135, 103675: 1136, 104488: 1137, 104898: 1138, 104997: 1139, 105217: 1140, 105023: 1141, 105028: 1142, 105104: 1143, 104519: 1144, 104173: 1145, 104999: 1146, 102881: 1147, 104161: 1148, 102885: 1149, 103684: 1150, 104217: 1151, 104719: 1152, 104779: 1153, 104272: 1154, 104678: 1155, 102282: 1156, 104505: 1157, 105231: 1158, 103702: 1159, 104262: 1160, 103747: 1161, 105014: 1162, 104477: 1163, 105066: 1164, 103984: 1165, 105098: 1166, 104770: 1167, 103893: 1168, 103782: 1169, 104007: 1170, 103623: 1171, 105166: 1172, 103676: 1173, 104831: 1174, 104500: 1175, 105030: 1176, 105501: 1177, 103538: 1178, 103653: 1179, 103949: 1180, 105016: 1181, 104619: 1182, 103467: 1183, 105041: 1184, 108948: 1185, 104535: 1186, 104673: 1187, 108949: 1188, 108950: 1189, 108951: 1190, 104887: 1191, 105006: 1192, 104028: 1193, 103956: 1194, 104437: 1195, 103978: 1196, 105155: 1197, 104800: 1198, 108952: 1199, 108953: 1200, 108954: 1201, 105053: 1202, 104712: 1203, 108955: 1204, 108956: 1205, 105497: 1206, 108957: 1207, 108958: 1208, 108959: 1209, 108960: 1210, 108961: 1211, 108962: 1212, 105009: 1213, 108963: 1214, 108964: 1215, 108966: 1216, 108967: 1217, 108968: 1218, 108969: 1219, 108970: 1220, 108971: 1221, 108972: 1222, 108973: 1223, 104234: 1224, 103668: 1225, 105094: 1226, 104476: 1227, 104768: 1228, 104882: 1229, 104789: 1230, 104323: 1231, 105122: 1232, 104292: 1233, 103872: 1234, 103643: 1235, 104888: 1236, 108974: 1237, 108975: 1238, 104695: 1239, 105062: 1240, 104707: 1241, 105189: 1242, 104361: 1243, 104545: 1244, 105404: 1245, 104586: 1246, 104397: 1247, 105559: 1248, 105131: 1249, 105453: 1250, 105373: 1251, 104684: 1252, 104646: 1253, 104731: 1254, 103805: 1255, 104665: 1256, 104735: 1257, 104897: 1258, 104978: 1259, 104095: 1260, 104216: 1261, 105137: 1262, 104140: 1263, 104227: 1264, 104868: 1265, 103924: 1266, 104297: 1267, 104724: 1268, 104979: 1269, 105579: 1270, 105402: 1271, 103718: 1272, 105194: 1273, 105064: 1274, 102963: 1275, 102388: 1276, 104942: 1277, 104200: 1278, 105261: 1279, 105148: 1280, 104949: 1281, 105216: 1282, 104988: 1283, 104992: 1284, 105159: 1285, 108976: 1286, 108977: 1287, 104965: 1288, 105394: 1289, 104679: 1290, 105081: 1291, 108978: 1292, 104763: 1293, 105656: 1294, 108979: 1295, 105419: 1296, 108980: 1297, 108981: 1298, 108982: 1299, 108983: 1300, 108984: 1301, 105464: 1302, 104412: 1303, 108985: 1304, 104236: 1305, 108986: 1306, 104952: 1307, 105132: 1308, 103674: 1309, 104464: 1310, 108987: 1311, 108988: 1312, 108684: 1313, 108685: 1314, 103994: 1315, 105149: 1316, 105085: 1317, 104613: 1318, 104484: 1319, 105286: 1320, 105777: 1321, 104235: 1322, 105099: 1323, 105575: 1324, 103437: 1325, 103850: 1326, 103926: 1327, 104628: 1328, 104986: 1329, 104470: 1330, 105471: 1331, 104823: 1332, 104721: 1333, 103543: 1334, 104091: 1335, 104149: 1336, 104314: 1337, 103822: 1338, 105070: 1339, 105052: 1340, 104830: 1341, 103448: 1342, 105065: 1343, 104579: 1344, 105173: 1345, 105831: 1346, 105554: 1347, 104334: 1348, 104667: 1349, 104919: 1350, 105590: 1351, 105341: 1352, 103763: 1353, 105454: 1354, 103076: 1355, 105220: 1356, 105339: 1357, 105311: 1358, 104781: 1359, 105147: 1360, 108993: 1361, 104692: 1362, 105032: 1363, 105015: 1364, 104471: 1365, 103748: 1366, 108996: 1367, 105992: 1368, 108997: 1369, 104192: 1370, 104281: 1371, 104958: 1372, 105572: 1373, 105668: 1374, 105539: 1375, 105738: 1376, 105577: 1377, 105662: 1378, 105101: 1379, 104810: 1380, 108687: 1381, 108688: 1382, 108689: 1383, 108690: 1384, 108691: 1385, 108692: 1386, 108693: 1387, 105111: 1388, 108694: 1389, 105221: 1390, 105002: 1391, 108695: 1392, 108696: 1393, 105573: 1394, 105079: 1395, 108697: 1396, 108698: 1397, 105074: 1398, 101779: 1399, 108699: 1400, 104583: 1401, 108700: 1402, 108701: 1403, 104921: 1404, 105103: 1405, 105177: 1406, 105003: 1407, 104934: 1408, 102254: 1409, 104402: 1410, 104352: 1411, 108702: 1412, 108703: 1413, 105011: 1414, 105349: 1415, 108704: 1416, 105463: 1417, 105386: 1418, 108705: 1419, 108706: 1420, 108707: 1421, 104947: 1422, 104595: 1423, 104504: 1424, 104158: 1425, 104071: 1426, 105723: 1427, 105987: 1428, 104547: 1429, 104415: 1430, 106026: 1431, 104550: 1432, 105180: 1433, 105730: 1434, 105783: 1435, 105720: 1436, 105331: 1437, 105643: 1438, 106090: 1439, 105936: 1440, 105440: 1441, 105254: 1442, 104672: 1443, 105960: 1444, 105001: 1445, 105657: 1446, 105138: 1447, 105906: 1448, 104211: 1449, 104456: 1450, 106071: 1451, 105558: 1452, 105683: 1453, 104896: 1454, 104385: 1455, 104644: 1456, 104623: 1457, 103577: 1458, 108709: 1459, 105456: 1460, 105431: 1461, 105029: 1462, 105781: 1463, 108710: 1464, 108711: 1465, 108712: 1466, 103630: 1467, 105334: 1468, 105499: 1469, 108713: 1470, 108714: 1471, 105912: 1472, 108715: 1473, 105488: 1474, 108716: 1475, 104600: 1476, 108717: 1477, 104908: 1478, 108718: 1479, 104336: 1480, 106024: 1481, 105633: 1482, 104603: 1483, 105430: 1484, 106201: 1485, 105226: 1486, 104910: 1487, 104067: 1488, 105187: 1489, 108719: 1490, 108720: 1491, 104945: 1492, 108721: 1493, 105305: 1494, 105967: 1495, 108722: 1496, 105585: 1497, 105842: 1498, 105790: 1499, 108723: 1500, 108724: 1501, 108725: 1502, 108726: 1503, 108727: 1504, 108728: 1505, 106664: 1506, 108729: 1507, 105084: 1508, 105438: 1509, 105376: 1510, 105583: 1511, 104739: 1512, 105332: 1513, 104948: 1514, 105894: 1515, 105077: 1516, 105917: 1517, 105614: 1518, 106058: 1519, 105116: 1520, 104494: 1521, 104594: 1522, 105051: 1523, 106186: 1524, 105318: 1525, 105601: 1526, 105154: 1527, 104661: 1528, 105449: 1529, 105357: 1530, 105413: 1531, 101404: 1532, 104465: 1533, 105589: 1534, 105609: 1535, 104226: 1536, 105872: 1537, 104850: 1538, 104967: 1539, 105161: 1540, 106006: 1541, 106045: 1542, 104963: 1543, 106105: 1544, 105128: 1545, 104651: 1546, 105379: 1547, 106081: 1548, 105262: 1549, 105269: 1550, 106123: 1551, 105827: 1552, 103760: 1553, 104489: 1554, 104654: 1555, 103531: 1556, 105717: 1557, 108734: 1558, 108735: 1559, 104901: 1560, 105916: 1561, 104191: 1562, 105060: 1563, 105036: 1564, 105012: 1565, 105625: 1566, 108736: 1567, 105156: 1568, 108737: 1569, 108738: 1570, 108739: 1571, 105899: 1572, 104249: 1573, 105731: 1574, 108740: 1575, 106277: 1576, 105812: 1577, 108741: 1578, 108742: 1579, 104631: 1580, 108743: 1581, 105961: 1582, 108744: 1583, 106198: 1584, 105442: 1585, 108745: 1586, 104604: 1587, 106158: 1588, 108746: 1589, 108747: 1590, 108748: 1591, 105641: 1592, 108749: 1593, 106000: 1594, 104512: 1595, 105284: 1596, 108750: 1597, 105408: 1598, 105877: 1599, 104106: 1600, 105638: 1601, 104857: 1602, 104729: 1603, 106244: 1604, 105091: 1605, 105561: 1606, 105676: 1607, 104778: 1608, 105930: 1609, 104677: 1610, 104932: 1611, 105649: 1612, 106233: 1613, 105688: 1614, 106246: 1615, 105270: 1616, 106243: 1617, 106207: 1618, 105487: 1619, 104820: 1620, 105807: 1621, 105283: 1622, 103969: 1623, 104633: 1624, 104023: 1625, 104640: 1626, 105941: 1627, 105707: 1628, 105300: 1629, 108759: 1630, 108760: 1631, 106077: 1632, 105004: 1633, 106220: 1634, 104377: 1635, 108761: 1636, 105288: 1637, 105935: 1638, 108762: 1639, 108763: 1640, 105541: 1641, 108764: 1642, 108765: 1643, 106100: 1644, 105201: 1645, 105681: 1646, 105372: 1647, 104146: 1648, 108766: 1649, 105566: 1650, 105606: 1651, 105152: 1652, 104804: 1653, 105521: 1654, 105428: 1655, 106150: 1656, 108767: 1657, 108768: 1658, 108769: 1659, 108770: 1660, 105773: 1661, 103043: 1662, 108771: 1663, 105493: 1664, 106342: 1665, 104839: 1666, 105830: 1667, 108772: 1668, 108773: 1669, 104718: 1670, 108774: 1671, 106184: 1672, 105477: 1673, 104473: 1674, 106281: 1675, 103863: 1676, 104953: 1677, 105113: 1678, 105294: 1679, 104971: 1680, 104516: 1681, 105336: 1682, 105902: 1683, 106093: 1684, 105757: 1685, 104970: 1686, 104629: 1687, 105874: 1688, 105529: 1689, 105655: 1690, 106325: 1691, 104693: 1692, 106053: 1693, 105072: 1694, 105175: 1695, 105711: 1696, 105120: 1697, 104256: 1698, 104893: 1699, 105550: 1700, 105819: 1701, 105733: 1702, 106261: 1703, 108775: 1704, 105255: 1705, 108776: 1706, 106165: 1707, 105207: 1708, 106199: 1709, 105434: 1710, 106247: 1711, 104856: 1712, 105946: 1713, 108777: 1714, 105565: 1715, 106074: 1716, 104920: 1717, 104803: 1718, 108778: 1719, 105909: 1720, 105747: 1721, 105299: 1722, 105182: 1723, 108779: 1724, 108780: 1725, 108781: 1726, 105436: 1727, 105933: 1728, 106410: 1729, 106169: 1730, 104917: 1731, 108782: 1732, 106309: 1733, 108783: 1734, 108784: 1735, 106426: 1736, 105985: 1737, 104656: 1738, 108785: 1739, 108786: 1740, 106232: 1741, 108787: 1742, 106175: 1743, 108788: 1744, 104858: 1745, 108789: 1746, 110602: 1747, 106298: 1748, 106378: 1749, 111513: 1750, 106397: 1751, 111456: 1752, 106043: 1753, 111200: 1754, 105526: 1755, 105806: 1756, 105080: 1757, 106148: 1758, 105591: 1759, 106065: 1760, 105472: 1761, 105427: 1762, 104944: 1763, 106032: 1764, 106374: 1765, 122279: 1766, 100644: 1767, 111578: 1768, 104847: 1769, 105302: 1770, 106210: 1771, 106401: 1772, 123768: 1773, 105528: 1774, 104960: 1775, 104905: 1776, 105292: 1777, 106228: 1778, 105679: 1779, 105100: 1780, 105441: 1781, 106291: 1782, 104627: 1783, 104275: 1784, 106432: 1785, 111202: 1786, 106234: 1787, 111575: 1788, 105732: 1789, 110476: 1790, 106328: 1791, 110536: 1792, 106290: 1793, 122687: 1794, 124063: 1795, 125571: 1796, 106412: 1797, 111751: 1798, 125572: 1799, 105630: 1800, 109698: 1801, 105169: 1802, 106035: 1803, 125573: 1804, 111181: 1805, 121908: 1806, 125781: 1807, 111797: 1808, 126209: 1809, 122047: 1810, 105586: 1811, 122260: 1812, 122261: 1813, 105852: 1814, 111167: 1815, 123983: 1816, 117365: 1817, 125574: 1818, 119511: 1819, 105278: 1820, 106350: 1821, 121648: 1822, 105239: 1823, 125782: 1824, 109520: 1825, 123814: 1826, 106078: 1827, 119506: 1828, 125783: 1829, 106381: 1830, 104615: 1831, 105482: 1832, 106227: 1833, 106034: 1834, 105271: 1835, 105547: 1836, 126116: 1837, 106423: 1838, 111790: 1839, 105882: 1840, 111444: 1841, 106121: 1842, 106174: 1843, 105613: 1844, 105999: 1845, 106321: 1846, 105952: 1847, 126094: 1848, 106066: 1849, 106353: 1850, 105634: 1851, 104993: 1852, 111442: 1853, 105853: 1854, 106368: 1855, 105233: 1856, 105934: 1857, 111156: 1858, 106238: 1859, 106283: 1860, 110636: 1861, 110748: 1862, 106430: 1863, 105932: 1864, 106362: 1865, 105678: 1866, 105063: 1867, 105047: 1868, 105651: 1869, 105245: 1870, 117357: 1871, 105059: 1872, 104393: 1873, 111577: 1874, 126207: 1875, 106218: 1876, 111511: 1877, 106415: 1878, 106293: 1879, 106299: 1880, 122109: 1881, 118591: 1882, 134677: 1883, 144771: 1884, 144772: 1885, 144773: 1886, 144774: 1887, 105031: 1888, 105448: 1889, 105490: 1890, 106237: 1891, 105703: 1892, 109529: 1893, 106392: 1894, 144775: 1895, 106136: 1896, 118053: 1897, 106194: 1898, 126223: 1899, 134886: 1900, 106393: 1901, 105450: 1902, 111781: 1903, 123915: 1904, 106033: 1905, 123997: 1906, 126340: 1907, 134302: 1908, 109737: 1909, 111426: 1910, 144776: 1911, 111453: 1912, 104446: 1913, 106387: 1914, 109336: 1915, 144777: 1916, 144707: 1917, 109739: 1918, 105542: 1919, 105401: 1920, 105888: 1921, 106216: 1922, 144719: 1923, 117356: 1924, 104563: 1925, 111506: 1926, 111460: 1927, 104822: 1928, 106109: 1929, 123755: 1930, 105512: 1931, 105826: 1932, 104802: 1933, 126205: 1934, 126152: 1935, 111190: 1936, 105026: 1937, 105841: 1938, 111192: 1939, 123921: 1940, 126203: 1941, 111153: 1942, 105943: 1943, 106390: 1944, 105963: 1945, 106005: 1946, 110754: 1947, 106138: 1948, 105281: 1949, 105325: 1950, 103902: 1951, 111805: 1952, 105587: 1953, 122548: 1954, 111794: 1955, 126473: 1956, 127326: 1957, 122321: 1958, 145016: 1959, 109257: 1960, 121331: 1961, 122669: 1962, 121971: 1963, 105820: 1964, 126204: 1965, 105467: 1966, 144799: 1967, 145022: 1968, 120792: 1969, 126681: 1970, 120401: 1971, 106249: 1972, 105250: 1973, 105759: 1974, 105626: 1975, 111761: 1976, 121896: 1977, 145023: 1978, 144854: 1979, 105954: 1980, 200270: 1981, 132566: 1982, 122513: 1983, 200271: 1984, 200272: 1985, 134114: 1986, 200273: 1987, 133301: 1988, 200274: 1989, 123965: 1990, 127570: 1991, 200537: 1992, 126646: 1993, 200282: 1994, 124014: 1995, 106421: 1996, 106075: 1997, 106329: 1998, 134770: 1999, 105551: 2000, 122570: 2001, 111581: 2002, 110686: 2003, 105881: 2004, 106331: 2005, 122330: 2006, 106225: 2007, 106361: 2008, 124187: 2009, 106425: 2010, 144642: 2011, 200572: 2012, 122635: 2013, 117353: 2014, 126952: 2015, 200075: 2016, 131951: 2017, 128034: 2018, 125802: 2019, 132040: 2020, 106180: 2021, 132028: 2022, 137018: 2023, 200621: 2024, 106250: 2025, 202165: 2026, 200045: 2027, 127143: 2028, 106085: 2029, 138846: 2030, 122533: 2031, 124023: 2032, 144750: 2033, 144940: 2034, 144814: 2035, 106106: 2036, 200325: 2037, 145003: 2038, 126689: 2039, 202219: 2040, 144760: 2041, 126526: 2042, 200031: 2043, 105798: 2044, 202382: 2045, 202212: 2046, 144949: 2047, 123795: 2048, 123315: 2049, 133430: 2050, 105596: 2051, 134472: 2052}\n"
          ],
          "name": "stdout"
        }
      ]
    },
    {
      "cell_type": "markdown",
      "metadata": {
        "id": "hILZZ78u0P0-",
        "colab_type": "text"
      },
      "source": [
        "**Embedding network**\n",
        "\n",
        "Here you are requested to code the embedding network. An embedding network in general, is created for learning how to represent an input provided as a one-hot vector. It usually \"projects\" the one-hot vectors on another vector space, which has less dimensions that capture some meaningful information about the inputs. In this case, we will feed the network with the instances we got from the previous function: one hot vector to represent the winner, and ont hot vector to represent the loser. The network will try to predict who scored more aces. You should implement the network, based on the architecture depicted in the followin diagram. **Note - use ReLU activation, only after Linear 1.**"
      ]
    },
    {
      "cell_type": "markdown",
      "metadata": {
        "id": "WVS7BiMi59V5",
        "colab_type": "text"
      },
      "source": [
        "![alt text](https://docs.google.com/drawings/d/e/2PACX-1vRp5PeqjF_W-gQmpjcY32hx4n5kWKsySdvLr3avz-bc0kodQbSlvNFuTBX6lcLzS6eS1nwjW0IdVCTY/pub?w=960&h=720)"
      ]
    },
    {
      "cell_type": "code",
      "metadata": {
        "id": "0DDy7zfbj3bj",
        "colab_type": "code",
        "colab": {}
      },
      "source": [
        "# TODO - complete the following network based on the diagram that's mentioned above.\n",
        "\n",
        "class EmbeddingsNet(torch.nn.Module):\n",
        "\n",
        "    def __init__(self, players_n, hidden_size):\n",
        "        '''\n",
        "        players_n - the size of the one hot vectors representing a single player\n",
        "        hidden_size - the output size of Linear of winner, Linear of loser and Linear 1 from the diagram\n",
        "        Note - Linear 2's output size should be 2\n",
        "        '''\n",
        "        super(EmbeddingsNet, self).__init__()\n",
        "        # TODO\n",
        "        self.embeddings = nn.Linear(players_n, hidden_size)\n",
        "        self.embeddings2 = nn.Linear(players_n, hidden_size)\n",
        "        self.linear1 = nn.Linear(hidden_size*2, hidden_size)\n",
        "        self.linear2 = nn.Linear(hidden_size, 2)\n",
        "\n",
        "    def forward(self, player_1_batch, player_2_batch):\n",
        "        '''\n",
        "        player_1_batch - Bx(number of players) tensor - a batch of winner one hot vectors\n",
        "        player_2_batch - Bx(number of players) tensor - a batch of loser one hot vectors\n",
        "        '''\n",
        "        # TODO\n",
        "        \n",
        "        embeds = self.embeddings(player_1_batch)\n",
        "        embeds2 = self.embeddings2(player_2_batch)\n",
        "        concatenated = torch.cat((embeds, embeds2), dim=1)\n",
        "        out = F.relu(self.linear1(concatenated))\n",
        "        out = self.linear2(out)\n",
        "        \n",
        "\n",
        "        return out"
      ],
      "execution_count": null,
      "outputs": []
    },
    {
      "cell_type": "markdown",
      "metadata": {
        "id": "3rQ3ovtN7ogP",
        "colab_type": "text"
      },
      "source": [
        "**Training the embedding network**\n",
        "\n",
        "You are requested to write a function that trains the embedding network."
      ]
    },
    {
      "cell_type": "code",
      "metadata": {
        "id": "7czu1v5d7l7i",
        "colab_type": "code",
        "colab": {
          "base_uri": "https://localhost:8080/",
          "height": 117
        },
        "outputId": "2da3e380-877a-4ee9-c381-721a04341455"
      },
      "source": [
        "# Intializing the embedding network:\n",
        "\n",
        "embedding_net = EmbeddingsNet(players_n, 200).cuda()\n",
        "embedding_net.eval()"
      ],
      "execution_count": null,
      "outputs": [
        {
          "output_type": "execute_result",
          "data": {
            "text/plain": [
              "EmbeddingsNet(\n",
              "  (embeddings): Linear(in_features=2053, out_features=200, bias=True)\n",
              "  (embeddings2): Linear(in_features=2053, out_features=200, bias=True)\n",
              "  (linear1): Linear(in_features=400, out_features=200, bias=True)\n",
              "  (linear2): Linear(in_features=200, out_features=2, bias=True)\n",
              ")"
            ]
          },
          "metadata": {
            "tags": []
          },
          "execution_count": 5
        }
      ]
    },
    {
      "cell_type": "code",
      "metadata": {
        "id": "El8BBY-eY3Y2",
        "colab_type": "code",
        "colab": {}
      },
      "source": [
        "\n",
        "optimizer = optim.Adam(embedding_net.parameters(), lr=0.001)\n"
      ],
      "execution_count": null,
      "outputs": []
    },
    {
      "cell_type": "code",
      "metadata": {
        "id": "7a1E81jwmWYE",
        "colab_type": "code",
        "colab": {}
      },
      "source": [
        "# TODO - you should implement the following function. You should define \n",
        "# all the relevant tools required to train the network (e.g., optimizer, loss function) \n",
        "# inside this function. Please use Adam optimizer with default parameters.\n",
        "# We suggest that you print the loss function every once in a while so that you \n",
        "# can watch the network improves. \n",
        "def batch_data(batch):\n",
        "    x,y = batch.shape\n",
        "    winner_batch = np.zeros((x,), dtype=np.float64) \n",
        "    loser_batch =np.zeros((x,), dtype=np.float64) \n",
        "    aces_batch = np.zeros((x,), dtype=np.float64) \n",
        "    for i in range(x):\n",
        "        winner_batch[i] = batch[i][0]\n",
        "        loser_batch[i] = batch[i][1]\n",
        "        aces_batch[i] = batch[i][2]\n",
        "    \n",
        "    return winner_batch,loser_batch,aces_batch\n",
        "def toTensorA(winner_batch,loser_batch):\n",
        "    x= winner_batch.size\n",
        "    \n",
        "    for i in range(x):\n",
        "        winner_batch[i]=torch.tensor([[winner_batch[i]]], dtype=torch.float32  ).cuda()\n",
        "        loser_batch[i]=torch.tensor([[loser_batch[i]]], dtype=torch.float32  ).cuda()\n",
        "    winner_batch=torch.tensor(winner_batch,dtype=torch.float32  ).cuda()\n",
        "    loser_batch=torch.tensor(loser_batch,dtype=torch.float32  ).cuda()\n",
        "    return winner_batch,loser_batch\n",
        "def aces(aces_batch):\n",
        "    x= aces_batch.size\n",
        "    aces_batch_new = torch.zeros([x,1], dtype=torch.float32  ).cuda()\n",
        "    aces_batch_new2 = torch.zeros([x,1], dtype=torch.float32  ).cuda()\n",
        "    for i in range(x):\n",
        "        if(aces_batch[i] == 0):\n",
        "            aces_batch_new[i] = 1\n",
        "            aces_batch_new2[i] = 0\n",
        "        else:\n",
        "            aces_batch_new[i] = 0\n",
        "            aces_batch_new2[i] = 1 \n",
        "    concatenated2 = torch.cat((aces_batch_new, aces_batch_new2), dim=0).cuda()\n",
        "    return concatenated2\n",
        "def get_input_layer(word_idx):\n",
        "    a = torch.tensor(len(word_idx),2053).cuda()\n",
        "    x = torch.zeros(2053).float().cuda()\n",
        "    for i in range(len(word_idx)):\n",
        "        x[word_idx[i]] = 1.0\n",
        "        a.append(x[word_idx[i]])\n",
        "    return list\n",
        "def train_embeddings_network(model, data, epochs, batch_size):\n",
        "    '''\n",
        "      model - the embedding_net object\n",
        "      data - the dataset (i.e., embedding_data from above)\n",
        "      epochs - number of epochs to train the network\n",
        "      batch_size - the batch size\n",
        "    '''\n",
        "    N = len(data)\n",
        "    for epoch in range(epochs):\n",
        "        total_loss=0\n",
        "        indexes = np.random.permutation(N)\n",
        "        new_data = np.array(data)\n",
        "        shuffled_data = new_data[indexes]\n",
        "        batches = [shuffled_data[b:b+batch_size]for b in range(0, N, batch_size)]\n",
        "        \n",
        "        for i , batch in enumerate(batches, 0):\n",
        "            \n",
        "            winner_batch , loser_batch , more_aces = batch_data(batch)\n",
        "            winner_batch_new,loser_batch_new=toTensorA(winner_batch,loser_batch)\n",
        "            \n",
        "            winner_idxs=F.one_hot(torch.tensor(winner_batch).to(torch.int64), num_classes=2053).cuda()\n",
        "            winner_idxs=winner_idxs.float()\n",
        "            \n",
        "            \n",
        "            loser_idxs=F.one_hot(torch.tensor(loser_batch).to(torch.int64), num_classes=2053).cuda()\n",
        "            loser_idxs=loser_idxs.float()\n",
        "            \n",
        "            model.zero_grad()\n",
        "\n",
        "            outputs = model(winner_idxs , loser_idxs)\n",
        "            aces_batch_new=torch.tensor(more_aces,dtype=torch.long).cuda()\n",
        "            loss = F.cross_entropy(outputs,aces_batch_new)\n",
        "            loss.backward() #calculate the gradients\n",
        "            #model.model_params['W1_winner']-(0.001*model.model_params['W1_winner'].grad.data)\n",
        "            optimizer.step()#updating the weights\n",
        "            total_loss+=loss.item()\n",
        "        print(f'Epoch {epoch}, loss={total_loss/len(batches)}')\n",
        "\n",
        " \n"
      ],
      "execution_count": null,
      "outputs": []
    },
    {
      "cell_type": "code",
      "metadata": {
        "id": "f5E3MQtTQh9E",
        "colab_type": "code",
        "colab": {
          "base_uri": "https://localhost:8080/",
          "height": 686
        },
        "outputId": "37997b29-3477-4384-ba07-1c191ab39fb6"
      },
      "source": [
        "# call the training procedure you implemented:\n",
        "\n",
        "train_embeddings_network(embedding_net, embedding_data, 40, 8)"
      ],
      "execution_count": null,
      "outputs": [
        {
          "output_type": "stream",
          "text": [
            "Epoch 0, loss=0.5635464106075109\n",
            "Epoch 1, loss=0.5250478385299505\n",
            "Epoch 2, loss=0.5127879498826139\n",
            "Epoch 3, loss=0.5054453008113793\n",
            "Epoch 4, loss=0.4993298167663084\n",
            "Epoch 5, loss=0.49417637788222535\n",
            "Epoch 6, loss=0.48884668809772386\n",
            "Epoch 7, loss=0.4834917451260475\n",
            "Epoch 8, loss=0.4770186937045323\n",
            "Epoch 9, loss=0.47113675722141296\n",
            "Epoch 10, loss=0.46575917695362984\n",
            "Epoch 11, loss=0.4610215332255939\n",
            "Epoch 12, loss=0.4567109247296223\n",
            "Epoch 13, loss=0.45211601345078645\n",
            "Epoch 14, loss=0.44775821646509567\n",
            "Epoch 15, loss=0.4449532014927642\n",
            "Epoch 16, loss=0.4408414074124141\n",
            "Epoch 17, loss=0.43633535640009824\n",
            "Epoch 18, loss=0.43243668530842977\n",
            "Epoch 19, loss=0.42828747546785034\n",
            "Epoch 20, loss=0.42507674850657845\n",
            "Epoch 21, loss=0.4223369113497437\n",
            "Epoch 22, loss=0.4188707887594778\n",
            "Epoch 23, loss=0.4162032854049488\n",
            "Epoch 24, loss=0.4131788997113082\n",
            "Epoch 25, loss=0.4117028089521609\n",
            "Epoch 26, loss=0.40697754408797027\n",
            "Epoch 27, loss=0.4046158808613692\n",
            "Epoch 28, loss=0.40331543157703137\n",
            "Epoch 29, loss=0.4013184645177678\n",
            "Epoch 30, loss=0.39832239224946897\n",
            "Epoch 31, loss=0.3971718895371212\n",
            "Epoch 32, loss=0.3953469741686983\n",
            "Epoch 33, loss=0.39231474661050086\n",
            "Epoch 34, loss=0.3916710484716932\n",
            "Epoch 35, loss=0.39052141923796263\n",
            "Epoch 36, loss=0.3879081087428272\n",
            "Epoch 37, loss=0.3876701611957724\n",
            "Epoch 38, loss=0.38580623812757797\n",
            "Epoch 39, loss=0.38437706605454514\n"
          ],
          "name": "stdout"
        }
      ]
    },
    {
      "cell_type": "markdown",
      "metadata": {
        "id": "7nieSTHf9a9b",
        "colab_type": "text"
      },
      "source": [
        "**Extracting embeddings**\n",
        "\n",
        "In this section, we will ask you to extract the player representation from the embedding network. In fact, we don't realy care about the quality of prediction of the embedding network. We care more about the vector representation it learned for every player. The representation is in fact the weight matrix of the two first linear layers that you created for each player of a given player pair. Each such weight matrix is of size (hidden_size X number_of_players). You can get that matrix of each of the two Linear layers, by calling their *parameters* function. This function returns a Python generator, and the first element is your matrix. Note that since you have two such layers, you will have two matrices; you are requested to add the two matrices together and divide by 2, and then you get a new matrix which will represent the players. This matrix, say M, will be of shape (hidden_size X number_of_players), so **M[:, 3]** for example, is a hidden_size vector representing player of index 3."
      ]
    },
    {
      "cell_type": "code",
      "metadata": {
        "id": "IJLOoKkrVRCb",
        "colab_type": "code",
        "colab": {
          "base_uri": "https://localhost:8080/",
          "height": 167
        },
        "outputId": "e844f894-8a93-4015-8ee0-84bb1bb46be9"
      },
      "source": [
        "# TODO: preparing the embedding matrix, let's call it player_embedding\n",
        "\n",
        "player_embedding = (embedding_net.embeddings.weight.data+embedding_net.embeddings2.weight.data)/2\n",
        "\n",
        "print(player_embedding)\n",
        "print(player_embedding.shape)\n"
      ],
      "execution_count": null,
      "outputs": [
        {
          "output_type": "stream",
          "text": [
            "tensor([[ 0.2590,  0.5316, -0.4917,  ...,  0.2403,  0.1848,  0.6200],\n",
            "        [ 0.4401, -0.6148, -0.6617,  ...,  0.2966, -0.1155, -0.5324],\n",
            "        [-0.0531,  0.2890, -0.4194,  ..., -0.2272,  0.6483,  0.5971],\n",
            "        ...,\n",
            "        [-0.9189,  0.0913, -0.5275,  ..., -0.6876, -0.4237, -0.6049],\n",
            "        [ 0.1470, -0.9408, -0.0343,  ...,  0.2217, -0.6655, -0.6280],\n",
            "        [-0.0146, -0.3992,  0.0930,  ...,  0.2534, -0.4056, -0.5169]],\n",
            "       device='cuda:0')\n",
            "torch.Size([200, 2053])\n"
          ],
          "name": "stdout"
        }
      ]
    },
    {
      "cell_type": "markdown",
      "metadata": {
        "id": "AaXcfb5XA-Dt",
        "colab_type": "text"
      },
      "source": [
        "**Prediction network**\n",
        "\n",
        "Now, we are ready to implement a simple network that predicts who wins a match, given two players and some additional match-leavel features. Please implement PredictionNetwork based on the following diagram. Each player is provided with it's embedding from the player_embedding matrix you calculated above. **Note - use ReLU after every Linear layer (except the last one of course).**\n"
      ]
    },
    {
      "cell_type": "markdown",
      "metadata": {
        "id": "QCCqGCVpC4KY",
        "colab_type": "text"
      },
      "source": [
        "![alt text](https://docs.google.com/drawings/d/e/2PACX-1vTCAlmaool-UQ9be8wSdjjgOq0VaCiYsXwsHw0HDxZRXTkp6vBm08Ma8sQha-cKDjjeZhfzY2qT8if8/pub?w=960&h=720)"
      ]
    },
    {
      "cell_type": "code",
      "metadata": {
        "id": "1IXZkqLBZHnE",
        "colab_type": "code",
        "colab": {}
      },
      "source": [
        "class PredictionNetwork(torch.nn.Module):\n",
        "  def __init__(self, players_embedding_size, match_feature_size, hidden_size1, hidden_size2, hidden_size3):\n",
        "    '''\n",
        "      players_embedding_size - the length of the vector representing each player \n",
        "      (basically, the hidden_size of the embedding network)\n",
        "      match_feature_size - the number of match-level features we use\n",
        "      hidden_size1 - the output size of all the three first layers (Linear player 1, \n",
        "      Linear player 2, and Linear features)\n",
        "      hidden_size2 - the output size of Linear 1\n",
        "      hidden_size3 - the output size of Linear 2\n",
        "    '''\n",
        "    super(PredictionNetwork, self).__init__()\n",
        "    # TODO\n",
        "    self.embeddings = nn.Linear(players_embedding_size, hidden_size1)\n",
        "    self.embeddings2 = nn.Linear(players_embedding_size, hidden_size1)\n",
        "    self.embeddings3 = nn.Linear(match_feature_size, hidden_size1)\n",
        "    self.linear1 = nn.Linear(hidden_size1*3, hidden_size2)\n",
        "    self.linear2 = nn.Linear(hidden_size2, hidden_size3)\n",
        "    self.linear3 = nn.Linear(hidden_size3, 2)\n",
        "\n",
        "  def forward(self, player1_batch, player2_batch, match_features_batch):\n",
        "    '''\n",
        "      player1_batch - Bx(players_embedding_size) tensor - a batch of player 1 embedding vectors\n",
        "      player2_batch - Bx(players_embedding_size) tensor - a batch of player 2 embedding vectors\n",
        "      match_features_batch - Bx(match_feature_size) tensor - a batch of match-level features\n",
        "    '''\n",
        "    # TODO\n",
        "    embed=self.embeddings(player1_batch)\n",
        "    embed2=self.embeddings2(player2_batch)\n",
        "    embed3=self.embeddings3(match_features_batch)\n",
        "    concatenated = torch.cat((embed, embed2,embed3), dim=1).cuda()\n",
        "    out1 = F.relu(self.linear1(concatenated))\n",
        "    out2 = F.relu(self.linear2(out1))\n",
        "    out3 = self.linear3(out2)\n",
        "    return out3"
      ],
      "execution_count": null,
      "outputs": []
    },
    {
      "cell_type": "markdown",
      "metadata": {
        "id": "7MWmy7IxE9Vj",
        "colab_type": "text"
      },
      "source": [
        "The following function, **prepare_match_dataset**, prepares the dataset of instances required to train your prediction network. We randomize the position of the winner and loser in each instance, to avoid converging to position based prediction. As you can see, we only use only a single match-level feature for now: draw_size."
      ]
    },
    {
      "cell_type": "code",
      "metadata": {
        "id": "ytX91LB4e60h",
        "colab_type": "code",
        "colab": {
          "base_uri": "https://localhost:8080/",
          "height": 301
        },
        "outputId": "86c5f990-d917-49b4-cead-363b846e8074"
      },
      "source": [
        "def prepare_match_dataset(folder_path, player_embedding):\n",
        "  X = []\n",
        "  y = []\n",
        "  surface_dictionary = {}\n",
        "  pathlist = Path(folder_path).glob('**/*.csv')\n",
        "  for path in pathlist:\n",
        "    path_in_str = str(path)\n",
        "    print(path_in_str)\n",
        "    raw = pd.read_csv(path_in_str, low_memory=False)\n",
        "    for i, match in raw.iterrows():\n",
        "      instance = []\n",
        "      features = []\n",
        "      features.append(match['draw_size'])\n",
        "      winner_embedding = player_embedding[:, player_id2index[match['winner_id']]].cpu().detach().numpy()\n",
        "      loser_embedding = player_embedding[:, player_id2index[match['loser_id']]].cpu().detach().numpy()\n",
        "      target = -1\n",
        "      if random.random() < 0.5:\n",
        "         instance.append(winner_embedding)\n",
        "         instance.append(loser_embedding)\n",
        "         target = 0\n",
        "      else:\n",
        "         instance.append(loser_embedding)\n",
        "         instance.append(winner_embedding)\n",
        "         target = 1\n",
        "      instance.append(features)\n",
        "      X.append(instance)\n",
        "      y.append(target)\n",
        "\n",
        "  return X, y\n",
        "\n",
        "\n",
        "#TODO - put your own path for the dataset folder\n",
        "X, y = prepare_match_dataset('/content/drive/My Drive/atp-matches-dataset', player_embedding) \n"
      ],
      "execution_count": null,
      "outputs": [
        {
          "output_type": "stream",
          "text": [
            "/content/drive/My Drive/atp-matches-dataset/atp-matches-dataset/atp_matches_2000.csv\n",
            "/content/drive/My Drive/atp-matches-dataset/atp-matches-dataset/atp_matches_2001.csv\n",
            "/content/drive/My Drive/atp-matches-dataset/atp-matches-dataset/atp_matches_2002.csv\n",
            "/content/drive/My Drive/atp-matches-dataset/atp-matches-dataset/atp_matches_2003.csv\n",
            "/content/drive/My Drive/atp-matches-dataset/atp-matches-dataset/atp_matches_2004.csv\n",
            "/content/drive/My Drive/atp-matches-dataset/atp-matches-dataset/atp_matches_2005.csv\n",
            "/content/drive/My Drive/atp-matches-dataset/atp-matches-dataset/atp_matches_2006.csv\n",
            "/content/drive/My Drive/atp-matches-dataset/atp-matches-dataset/atp_matches_2007.csv\n",
            "/content/drive/My Drive/atp-matches-dataset/atp-matches-dataset/atp_matches_2008.csv\n",
            "/content/drive/My Drive/atp-matches-dataset/atp-matches-dataset/atp_matches_2009.csv\n",
            "/content/drive/My Drive/atp-matches-dataset/atp-matches-dataset/atp_matches_2010.csv\n",
            "/content/drive/My Drive/atp-matches-dataset/atp-matches-dataset/atp_matches_2011.csv\n",
            "/content/drive/My Drive/atp-matches-dataset/atp-matches-dataset/atp_matches_2012.csv\n",
            "/content/drive/My Drive/atp-matches-dataset/atp-matches-dataset/atp_matches_2013.csv\n",
            "/content/drive/My Drive/atp-matches-dataset/atp-matches-dataset/atp_matches_2014.csv\n",
            "/content/drive/My Drive/atp-matches-dataset/atp-matches-dataset/atp_matches_2015.csv\n",
            "/content/drive/My Drive/atp-matches-dataset/atp-matches-dataset/atp_matches_2017.csv\n"
          ],
          "name": "stdout"
        }
      ]
    },
    {
      "cell_type": "markdown",
      "metadata": {
        "id": "FPJvKH9KFpMI",
        "colab_type": "text"
      },
      "source": [
        "**Training the prediction network**\n",
        "\n",
        "Now, you should write code to train the prediction network using the X,y dataset."
      ]
    },
    {
      "cell_type": "code",
      "metadata": {
        "id": "oQJ6BJNhffy4",
        "colab_type": "code",
        "colab": {}
      },
      "source": [
        "# TODO - split the data into train and test. Please allocate 25% of the data for test, using random_state=42\n",
        "X_train, X_test, y_train, y_test = train_test_split(X, y, test_size=0.25, random_state=42)\n"
      ],
      "execution_count": null,
      "outputs": []
    },
    {
      "cell_type": "code",
      "metadata": {
        "id": "K6LK_Fq-AYKI",
        "colab_type": "code",
        "colab": {}
      },
      "source": [
        "# TODO - you should implement the following train_match_network function. You should define \n",
        "# all the relevant tools required to train the network (e.g., optimizer, loss function) \n",
        "# inside this function. Please use Adam optimizer with default parameters.\n",
        "# You should print and plot the loss function for the train data every once in a while, \n",
        "# as well as accuracy for the test data (every epoch) so that you \n",
        "# can watch the network improves.\n",
        "def get_num_correct(preds,labels):\n",
        "    return preds.argmax(dim=1).eq(labels).sum().item()\n",
        "def batch_data2(batch):\n",
        "    x,y = batch.shape\n",
        "    winner_batch = []\n",
        "    loser_batch =[]\n",
        "    features_batch = []\n",
        "    for i in range(x):\n",
        "        winner_batch.append(batch[i][0])\n",
        "        loser_batch.append(batch[i][1])\n",
        "        features_batch.append(batch[i][2])\n",
        "    \n",
        "    return winner_batch,loser_batch,features_batch\n",
        "def batch_data_test(batch):\n",
        "    x=len(batch)\n",
        "\n",
        "    winner_batch = []\n",
        "    loser_batch =[]\n",
        "    features_batch = []\n",
        "    for i in range(x):\n",
        "        winner_batch.append(batch[i][0])\n",
        "        loser_batch.append(batch[i][1])\n",
        "        features_batch.append(batch[i][2])\n",
        "    \n",
        "    return winner_batch,loser_batch,features_batch   \n",
        "def toTensor(winner_batch,loser_batch,features_batch):\n",
        "    x= len(winner_batch)\n",
        "    winner_batch_1 = torch.zeros([x,len(winner_batch[0])], dtype=torch.float).cuda() \n",
        "    loser_batch_1 =torch.zeros([x,len(loser_batch[0])], dtype=torch.float).cuda() \n",
        "    features_batch_1 = torch.zeros([x,len(features_batch[0])], dtype=torch.float).cuda() \n",
        "\n",
        "    for i in range(x):\n",
        "        winner_batch_1[i]=torch.tensor([[winner_batch[i]]], dtype=torch.float  ).cuda()\n",
        "        loser_batch_1[i]=torch.tensor([[loser_batch[i]]], dtype=torch.float  ).cuda()\n",
        "        features_batch_1[i]=torch.tensor([[features_batch[i]]], dtype=torch.float  ).cuda()\n",
        "    return winner_batch_1,loser_batch_1,features_batch_1\n",
        "def label_batch(batch_y):\n",
        "    x= len(batch_y)\n",
        "    batch_y_new = torch.zeros([x], dtype=torch.long  ).cuda()\n",
        "    for i in range(x):\n",
        "        batch_y_new[i] = torch.tensor([[batch_y[i]]], dtype=torch.long  ).cuda()\n",
        "    return  batch_y_new\n",
        "def train_match_network(model, X_train, X_test, y_train, y_test, epochs, batch_size):\n",
        "    '''\n",
        "      X_train - the training data\n",
        "      X_test - the testing data\n",
        "      y_train - the target of the training data\n",
        "      y_test - the target of the testing data\n",
        "      epochs - number of epochs\n",
        "      batch_size - the batch size\n",
        "    '''\n",
        "    optimizer = optim.Adam(model.parameters(), lr=0.001)\n",
        "    N = len(y_train)\n",
        "    N2 = len(y_test)\n",
        "    for epoch in range(epochs):\n",
        "        total_loss=0\n",
        "        total_test_correct = 0\n",
        "        total_test_loss=0\n",
        "        indexes = np.random.permutation(N)\n",
        "        new_data_X = np.array(X_train)\n",
        "        new_data_y = np.array(y_train)\n",
        "        shuffled_X = new_data_X[indexes]\n",
        "        shuffled_y = new_data_y[indexes]\n",
        "        batches = [(shuffled_X[b:b+batch_size], shuffled_y[b:b+batch_size]) for b in range(0, N, batch_size)]\n",
        "        for i , batch in enumerate(batches, 0):\n",
        "            batch_x , batch_y = batch\n",
        "            player1_batch, player2_batch, match_features_batch = batch_data2(batch_x)\n",
        "            player1_batch_new,player2_batch_new,match_features_batch_new=toTensor(player1_batch,player2_batch,match_features_batch)\n",
        "            \n",
        "            model.zero_grad()\n",
        "\n",
        "            outputs = model(player1_batch_new , player2_batch_new,match_features_batch_new)\n",
        "            labels=label_batch(batch_y)\n",
        "            loss = F.cross_entropy(outputs,labels)\n",
        "            loss.backward() #calculate the gradients\n",
        "            optimizer.step()#updating the weights\n",
        "            total_loss+=loss.item()\n",
        "        print(f'Epoch {epoch}, Train_loss={total_loss/len(batches)}')\n",
        "        \n",
        "        with torch.no_grad():\n",
        "            \n",
        "            test_batches = [(X_test[b:b+batch_size], y_test[b:b+batch_size]) for b in range(0, N2, batch_size)]\n",
        "            for i, batch_test in enumerate(test_batches, 0):\n",
        "\n",
        "                batch_x_test , batch_y_test = batch_test\n",
        "                player1_batch_t, player2_batch_t, match_features_batch_t =  batch_data_test(batch_x_test)\n",
        "                player1_batch_newt,player2_batch_newt,match_features_batch_newt=toTensor(player1_batch_t,player2_batch_t,match_features_batch_t)\n",
        "\n",
        "\n",
        "                preds = model(player1_batch_newt,player2_batch_newt,match_features_batch_newt) #pass batch\n",
        "                labels_test=label_batch(batch_y_test)\n",
        "                loss_test = F.cross_entropy(preds,labels_test) #calculating the loss\n",
        "\n",
        "                total_test_loss+=loss_test.item()\n",
        "                total_test_correct+=get_num_correct(preds,labels_test)\n",
        "                \n",
        "                \n",
        "        \n",
        "        print(\"epoch:\",epoch,'Accuracy of the network on the test data: %d %%' % (100 * total_test_correct / len(y_test)),\"total_test_loss:\",total_test_loss/len(test_batches))\n",
        "\n",
        "\n",
        "\n",
        "        "
      ],
      "execution_count": null,
      "outputs": []
    },
    {
      "cell_type": "code",
      "metadata": {
        "id": "uHxvKBIfZ_Ix",
        "colab_type": "code",
        "colab": {
          "base_uri": "https://localhost:8080/",
          "height": 150
        },
        "outputId": "c694b9e2-524a-44e9-f1ae-65c504403a9f"
      },
      "source": [
        "# TODO - train your network\n",
        "tennisMatchModel = PredictionNetwork(200, 1, 1024, 700, 200).cuda()\n",
        "tennisMatchModel.eval()\n"
      ],
      "execution_count": null,
      "outputs": [
        {
          "output_type": "execute_result",
          "data": {
            "text/plain": [
              "PredictionNetwork(\n",
              "  (embeddings): Linear(in_features=200, out_features=1024, bias=True)\n",
              "  (embeddings2): Linear(in_features=200, out_features=1024, bias=True)\n",
              "  (embeddings3): Linear(in_features=1, out_features=1024, bias=True)\n",
              "  (linear1): Linear(in_features=3072, out_features=700, bias=True)\n",
              "  (linear2): Linear(in_features=700, out_features=200, bias=True)\n",
              "  (linear3): Linear(in_features=200, out_features=2, bias=True)\n",
              ")"
            ]
          },
          "metadata": {
            "tags": []
          },
          "execution_count": 14
        }
      ]
    },
    {
      "cell_type": "code",
      "metadata": {
        "id": "VRoq9ge5p5kq",
        "colab_type": "code",
        "colab": {
          "base_uri": "https://localhost:8080/",
          "height": 1000
        },
        "outputId": "4f12faf1-dfc6-4b8f-ec6d-c7e00bb26012"
      },
      "source": [
        "train_match_network(tennisMatchModel, X_train, X_test, y_train, y_test, 40, 2)"
      ],
      "execution_count": null,
      "outputs": [
        {
          "output_type": "stream",
          "text": [
            "Epoch 0, Train_loss=0.7183660492006312\n",
            "epoch: 0 Accuracy of the network on the test data: 48 % total_test_loss: 0.6933120397275959\n",
            "Epoch 1, Train_loss=0.6956626022534048\n",
            "epoch: 1 Accuracy of the network on the test data: 52 % total_test_loss: 0.691457907740705\n",
            "Epoch 2, Train_loss=0.6966661627578791\n",
            "epoch: 2 Accuracy of the network on the test data: 51 % total_test_loss: 0.6944964904938671\n",
            "Epoch 3, Train_loss=0.7065391327244995\n",
            "epoch: 3 Accuracy of the network on the test data: 52 % total_test_loss: 0.6956173870697785\n",
            "Epoch 4, Train_loss=0.6937775312596934\n",
            "epoch: 4 Accuracy of the network on the test data: 52 % total_test_loss: 0.6889319612838067\n",
            "Epoch 5, Train_loss=0.6936074268454547\n",
            "epoch: 5 Accuracy of the network on the test data: 49 % total_test_loss: 0.6901566360951451\n",
            "Epoch 6, Train_loss=0.6943253479685416\n",
            "epoch: 6 Accuracy of the network on the test data: 52 % total_test_loss: 0.6885988657807572\n",
            "Epoch 7, Train_loss=0.6913829329886002\n",
            "epoch: 7 Accuracy of the network on the test data: 52 % total_test_loss: 0.6874965241031827\n",
            "Epoch 8, Train_loss=0.7028962278706499\n",
            "epoch: 8 Accuracy of the network on the test data: 48 % total_test_loss: 0.6932701191944028\n",
            "Epoch 9, Train_loss=0.6952250253338229\n",
            "epoch: 9 Accuracy of the network on the test data: 51 % total_test_loss: 0.6927201173913157\n",
            "Epoch 10, Train_loss=0.6952399079830959\n",
            "epoch: 10 Accuracy of the network on the test data: 48 % total_test_loss: 0.6933920018809862\n",
            "Epoch 11, Train_loss=0.6936703640556043\n",
            "epoch: 11 Accuracy of the network on the test data: 51 % total_test_loss: 0.6928055255384012\n",
            "Epoch 12, Train_loss=0.6933460208689847\n",
            "epoch: 12 Accuracy of the network on the test data: 48 % total_test_loss: 0.6931844689370409\n",
            "Epoch 13, Train_loss=0.6933119857367198\n",
            "epoch: 13 Accuracy of the network on the test data: 48 % total_test_loss: 0.693581096018215\n",
            "Epoch 14, Train_loss=0.6932778980500247\n",
            "epoch: 14 Accuracy of the network on the test data: 48 % total_test_loss: 0.6934610560543457\n",
            "Epoch 15, Train_loss=0.6933950262281429\n",
            "epoch: 15 Accuracy of the network on the test data: 51 % total_test_loss: 0.6930986448398705\n",
            "Epoch 16, Train_loss=0.6933484007391517\n",
            "epoch: 16 Accuracy of the network on the test data: 51 % total_test_loss: 0.6928087798992001\n",
            "Epoch 17, Train_loss=0.6932753847538403\n",
            "epoch: 17 Accuracy of the network on the test data: 51 % total_test_loss: 0.6927987443572866\n",
            "Epoch 18, Train_loss=0.6933207887420861\n",
            "epoch: 18 Accuracy of the network on the test data: 48 % total_test_loss: 0.6943189162390271\n",
            "Epoch 19, Train_loss=0.6933629959059473\n",
            "epoch: 19 Accuracy of the network on the test data: 51 % total_test_loss: 0.6928669749662631\n",
            "Epoch 20, Train_loss=0.6933539154810826\n",
            "epoch: 20 Accuracy of the network on the test data: 51 % total_test_loss: 0.6930679213753645\n",
            "Epoch 21, Train_loss=0.6933321099093221\n",
            "epoch: 21 Accuracy of the network on the test data: 51 % total_test_loss: 0.6928021881686341\n",
            "Epoch 22, Train_loss=0.6932920621039024\n",
            "epoch: 22 Accuracy of the network on the test data: 51 % total_test_loss: 0.6927982085378388\n",
            "Epoch 23, Train_loss=0.6933059549209709\n",
            "epoch: 23 Accuracy of the network on the test data: 48 % total_test_loss: 0.6934539156046081\n",
            "Epoch 24, Train_loss=0.6933599163954981\n",
            "epoch: 24 Accuracy of the network on the test data: 48 % total_test_loss: 0.6940405927698666\n",
            "Epoch 25, Train_loss=0.6933491024979558\n",
            "epoch: 25 Accuracy of the network on the test data: 51 % total_test_loss: 0.6927985469198475\n",
            "Epoch 26, Train_loss=0.6933288807570479\n",
            "epoch: 26 Accuracy of the network on the test data: 51 % total_test_loss: 0.6928013560704426\n",
            "Epoch 27, Train_loss=0.6933236480991354\n",
            "epoch: 27 Accuracy of the network on the test data: 51 % total_test_loss: 0.6930030192723099\n",
            "Epoch 28, Train_loss=0.6932815168971711\n",
            "epoch: 28 Accuracy of the network on the test data: 51 % total_test_loss: 0.6929984672822788\n",
            "Epoch 29, Train_loss=0.6932365340138704\n",
            "epoch: 29 Accuracy of the network on the test data: 48 % total_test_loss: 0.694391862583432\n",
            "Epoch 30, Train_loss=0.6933207528246534\n",
            "epoch: 30 Accuracy of the network on the test data: 51 % total_test_loss: 0.6931400362816514\n",
            "Epoch 31, Train_loss=0.6932972130069864\n",
            "epoch: 31 Accuracy of the network on the test data: 48 % total_test_loss: 0.6937068617904022\n",
            "Epoch 32, Train_loss=0.6933101830914736\n",
            "epoch: 32 Accuracy of the network on the test data: 48 % total_test_loss: 0.6932892163726578\n",
            "Epoch 33, Train_loss=0.6933194728068132\n",
            "epoch: 33 Accuracy of the network on the test data: 48 % total_test_loss: 0.6941506125715371\n",
            "Epoch 34, Train_loss=0.6933151147306855\n",
            "epoch: 34 Accuracy of the network on the test data: 51 % total_test_loss: 0.69280580394801\n",
            "Epoch 35, Train_loss=0.6932619082923304\n",
            "epoch: 35 Accuracy of the network on the test data: 51 % total_test_loss: 0.692925384745834\n",
            "Epoch 36, Train_loss=0.6932524217493341\n",
            "epoch: 36 Accuracy of the network on the test data: 48 % total_test_loss: 0.6945656525656838\n",
            "Epoch 37, Train_loss=0.6933581386601718\n",
            "epoch: 37 Accuracy of the network on the test data: 51 % total_test_loss: 0.6929984499789212\n",
            "Epoch 38, Train_loss=0.6933609479584976\n",
            "epoch: 38 Accuracy of the network on the test data: 48 % total_test_loss: 0.6939746732859648\n",
            "Epoch 39, Train_loss=0.6933481690501799\n",
            "epoch: 39 Accuracy of the network on the test data: 48 % total_test_loss: 0.6931617735986599\n"
          ],
          "name": "stdout"
        }
      ]
    }
  ]
}